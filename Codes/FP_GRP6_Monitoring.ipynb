{
  "cells": [
    {
      "cell_type": "markdown",
      "id": "9177d482-1293-443b-8f3c-afd46a3779d0",
      "metadata": {
        "id": "9177d482-1293-443b-8f3c-afd46a3779d0"
      },
      "source": [
        "## **FOUNDATION PROJECT - GROUP ASSIGNMENT** ##\n",
        "\n",
        "> **Use Case ::** Predicting Stock Movement - **\"Stock Market Copilot\"**\n",
        "\n",
        "> **Dataset Source ::** Yahoo Finance - https://finance.yahoo.com/quote/TSLA/history/?filter=history\n",
        "\n",
        "> **Group No. ::** 6"
      ]
    },
    {
      "cell_type": "markdown",
      "source": [
        "## **MODEL MONITORING**"
      ],
      "metadata": {
        "id": "z0mcmCWrC9W9"
      },
      "id": "z0mcmCWrC9W9"
    },
    {
      "cell_type": "markdown",
      "id": "808dc8fb-dd2a-4cd0-ac93-935c6e8c6abd",
      "metadata": {
        "id": "808dc8fb-dd2a-4cd0-ac93-935c6e8c6abd"
      },
      "source": [
        "**Install alibi_detect library**"
      ]
    },
    {
      "cell_type": "code",
      "execution_count": 1,
      "id": "a3121165-51e9-4a99-8cec-6f57b3516587",
      "metadata": {
        "colab": {
          "base_uri": "https://localhost:8080/",
          "height": 1000
        },
        "id": "a3121165-51e9-4a99-8cec-6f57b3516587",
        "outputId": "d6aa41d9-7d1e-45cc-c23f-0b89b9d6ebf5"
      },
      "outputs": [
        {
          "output_type": "stream",
          "name": "stdout",
          "text": [
            "Collecting alibi\n",
            "  Downloading alibi-0.9.6-py3-none-any.whl.metadata (22 kB)\n",
            "Collecting alibi_detect\n",
            "  Downloading alibi_detect-0.12.0-py3-none-any.whl.metadata (28 kB)\n",
            "Collecting numpy<2.0.0,>=1.16.2 (from alibi)\n",
            "  Downloading numpy-1.26.4-cp311-cp311-manylinux_2_17_x86_64.manylinux2014_x86_64.whl.metadata (61 kB)\n",
            "\u001b[2K     \u001b[90m━━━━━━━━━━━━━━━━━━━━━━━━━━━━━━━━━━━━━━━\u001b[0m \u001b[32m61.0/61.0 kB\u001b[0m \u001b[31m881.1 kB/s\u001b[0m eta \u001b[36m0:00:00\u001b[0m\n",
            "\u001b[?25hRequirement already satisfied: pandas<3.0.0,>=1.0.0 in /usr/local/lib/python3.11/dist-packages (from alibi) (2.2.2)\n",
            "Requirement already satisfied: scikit-learn<2.0.0,>=1.0.0 in /usr/local/lib/python3.11/dist-packages (from alibi) (1.6.1)\n",
            "Requirement already satisfied: spacy<4.0.0,>=2.0.0 in /usr/local/lib/python3.11/dist-packages (from spacy[lookups]<4.0.0,>=2.0.0->alibi) (3.8.5)\n",
            "Collecting blis<0.8.0 (from alibi)\n",
            "  Downloading blis-0.7.11-cp311-cp311-manylinux_2_17_x86_64.manylinux2014_x86_64.whl.metadata (7.4 kB)\n",
            "Collecting scikit-image<0.23,>=0.17.2 (from alibi)\n",
            "  Downloading scikit_image-0.22.0-cp311-cp311-manylinux_2_17_x86_64.manylinux2014_x86_64.whl.metadata (13 kB)\n",
            "Requirement already satisfied: requests<3.0.0,>=2.21.0 in /usr/local/lib/python3.11/dist-packages (from alibi) (2.32.3)\n",
            "Collecting Pillow<11.0,>=5.4.1 (from alibi)\n",
            "  Downloading pillow-10.4.0-cp311-cp311-manylinux_2_28_x86_64.whl.metadata (9.2 kB)\n",
            "Collecting attrs<24.0.0,>=19.2.0 (from alibi)\n",
            "  Downloading attrs-23.2.0-py3-none-any.whl.metadata (9.5 kB)\n",
            "Requirement already satisfied: scipy<2.0.0,>=1.1.0 in /usr/local/lib/python3.11/dist-packages (from alibi) (1.14.1)\n",
            "Requirement already satisfied: matplotlib<4.0.0,>=3.0.0 in /usr/local/lib/python3.11/dist-packages (from alibi) (3.10.0)\n",
            "Requirement already satisfied: typing-extensions>=3.7.4.3 in /usr/local/lib/python3.11/dist-packages (from alibi) (4.13.2)\n",
            "Collecting dill<0.4.0,>=0.3.0 (from alibi)\n",
            "  Downloading dill-0.3.9-py3-none-any.whl.metadata (10 kB)\n",
            "Requirement already satisfied: transformers<5.0.0,>=4.7.0 in /usr/local/lib/python3.11/dist-packages (from alibi) (4.51.3)\n",
            "Requirement already satisfied: tqdm<5.0.0,>=4.28.1 in /usr/local/lib/python3.11/dist-packages (from alibi) (4.67.1)\n",
            "Requirement already satisfied: opencv-python<5.0.0,>=3.2.0 in /usr/local/lib/python3.11/dist-packages (from alibi_detect) (4.11.0.86)\n",
            "Requirement already satisfied: pydantic<3.0.0,>=1.8.0 in /usr/local/lib/python3.11/dist-packages (from alibi_detect) (2.11.3)\n",
            "Requirement already satisfied: toml<1.0.0,>=0.10.1 in /usr/local/lib/python3.11/dist-packages (from alibi_detect) (0.10.2)\n",
            "Requirement already satisfied: catalogue<3.0.0,>=2.0.0 in /usr/local/lib/python3.11/dist-packages (from alibi_detect) (2.0.10)\n",
            "Collecting numba!=0.54.0,<0.60.0,>=0.50.0 (from alibi_detect)\n",
            "  Downloading numba-0.59.1-cp311-cp311-manylinux2014_x86_64.manylinux_2_17_x86_64.whl.metadata (2.7 kB)\n",
            "Requirement already satisfied: contourpy>=1.0.1 in /usr/local/lib/python3.11/dist-packages (from matplotlib<4.0.0,>=3.0.0->alibi) (1.3.2)\n",
            "Requirement already satisfied: cycler>=0.10 in /usr/local/lib/python3.11/dist-packages (from matplotlib<4.0.0,>=3.0.0->alibi) (0.12.1)\n",
            "Requirement already satisfied: fonttools>=4.22.0 in /usr/local/lib/python3.11/dist-packages (from matplotlib<4.0.0,>=3.0.0->alibi) (4.57.0)\n",
            "Requirement already satisfied: kiwisolver>=1.3.1 in /usr/local/lib/python3.11/dist-packages (from matplotlib<4.0.0,>=3.0.0->alibi) (1.4.8)\n",
            "Requirement already satisfied: packaging>=20.0 in /usr/local/lib/python3.11/dist-packages (from matplotlib<4.0.0,>=3.0.0->alibi) (24.2)\n",
            "Requirement already satisfied: pyparsing>=2.3.1 in /usr/local/lib/python3.11/dist-packages (from matplotlib<4.0.0,>=3.0.0->alibi) (3.2.3)\n",
            "Requirement already satisfied: python-dateutil>=2.7 in /usr/local/lib/python3.11/dist-packages (from matplotlib<4.0.0,>=3.0.0->alibi) (2.8.2)\n",
            "Collecting llvmlite<0.43,>=0.42.0dev0 (from numba!=0.54.0,<0.60.0,>=0.50.0->alibi_detect)\n",
            "  Downloading llvmlite-0.42.0-cp311-cp311-manylinux_2_17_x86_64.manylinux2014_x86_64.whl.metadata (4.8 kB)\n",
            "Requirement already satisfied: pytz>=2020.1 in /usr/local/lib/python3.11/dist-packages (from pandas<3.0.0,>=1.0.0->alibi) (2025.2)\n",
            "Requirement already satisfied: tzdata>=2022.7 in /usr/local/lib/python3.11/dist-packages (from pandas<3.0.0,>=1.0.0->alibi) (2025.2)\n",
            "Requirement already satisfied: annotated-types>=0.6.0 in /usr/local/lib/python3.11/dist-packages (from pydantic<3.0.0,>=1.8.0->alibi_detect) (0.7.0)\n",
            "Requirement already satisfied: pydantic-core==2.33.1 in /usr/local/lib/python3.11/dist-packages (from pydantic<3.0.0,>=1.8.0->alibi_detect) (2.33.1)\n",
            "Requirement already satisfied: typing-inspection>=0.4.0 in /usr/local/lib/python3.11/dist-packages (from pydantic<3.0.0,>=1.8.0->alibi_detect) (0.4.0)\n",
            "Requirement already satisfied: charset-normalizer<4,>=2 in /usr/local/lib/python3.11/dist-packages (from requests<3.0.0,>=2.21.0->alibi) (3.4.1)\n",
            "Requirement already satisfied: idna<4,>=2.5 in /usr/local/lib/python3.11/dist-packages (from requests<3.0.0,>=2.21.0->alibi) (3.10)\n",
            "Requirement already satisfied: urllib3<3,>=1.21.1 in /usr/local/lib/python3.11/dist-packages (from requests<3.0.0,>=2.21.0->alibi) (2.3.0)\n",
            "Requirement already satisfied: certifi>=2017.4.17 in /usr/local/lib/python3.11/dist-packages (from requests<3.0.0,>=2.21.0->alibi) (2025.1.31)\n",
            "Requirement already satisfied: networkx>=2.8 in /usr/local/lib/python3.11/dist-packages (from scikit-image<0.23,>=0.17.2->alibi) (3.4.2)\n",
            "Requirement already satisfied: imageio>=2.27 in /usr/local/lib/python3.11/dist-packages (from scikit-image<0.23,>=0.17.2->alibi) (2.37.0)\n",
            "Requirement already satisfied: tifffile>=2022.8.12 in /usr/local/lib/python3.11/dist-packages (from scikit-image<0.23,>=0.17.2->alibi) (2025.3.30)\n",
            "Requirement already satisfied: lazy_loader>=0.3 in /usr/local/lib/python3.11/dist-packages (from scikit-image<0.23,>=0.17.2->alibi) (0.4)\n",
            "Requirement already satisfied: joblib>=1.2.0 in /usr/local/lib/python3.11/dist-packages (from scikit-learn<2.0.0,>=1.0.0->alibi) (1.4.2)\n",
            "Requirement already satisfied: threadpoolctl>=3.1.0 in /usr/local/lib/python3.11/dist-packages (from scikit-learn<2.0.0,>=1.0.0->alibi) (3.6.0)\n",
            "Requirement already satisfied: spacy-legacy<3.1.0,>=3.0.11 in /usr/local/lib/python3.11/dist-packages (from spacy<4.0.0,>=2.0.0->spacy[lookups]<4.0.0,>=2.0.0->alibi) (3.0.12)\n",
            "Requirement already satisfied: spacy-loggers<2.0.0,>=1.0.0 in /usr/local/lib/python3.11/dist-packages (from spacy<4.0.0,>=2.0.0->spacy[lookups]<4.0.0,>=2.0.0->alibi) (1.0.5)\n",
            "Requirement already satisfied: murmurhash<1.1.0,>=0.28.0 in /usr/local/lib/python3.11/dist-packages (from spacy<4.0.0,>=2.0.0->spacy[lookups]<4.0.0,>=2.0.0->alibi) (1.0.12)\n",
            "Requirement already satisfied: cymem<2.1.0,>=2.0.2 in /usr/local/lib/python3.11/dist-packages (from spacy<4.0.0,>=2.0.0->spacy[lookups]<4.0.0,>=2.0.0->alibi) (2.0.11)\n",
            "Requirement already satisfied: preshed<3.1.0,>=3.0.2 in /usr/local/lib/python3.11/dist-packages (from spacy<4.0.0,>=2.0.0->spacy[lookups]<4.0.0,>=2.0.0->alibi) (3.0.9)\n",
            "Requirement already satisfied: thinc<8.4.0,>=8.3.4 in /usr/local/lib/python3.11/dist-packages (from spacy<4.0.0,>=2.0.0->spacy[lookups]<4.0.0,>=2.0.0->alibi) (8.3.6)\n",
            "Requirement already satisfied: wasabi<1.2.0,>=0.9.1 in /usr/local/lib/python3.11/dist-packages (from spacy<4.0.0,>=2.0.0->spacy[lookups]<4.0.0,>=2.0.0->alibi) (1.1.3)\n",
            "Requirement already satisfied: srsly<3.0.0,>=2.4.3 in /usr/local/lib/python3.11/dist-packages (from spacy<4.0.0,>=2.0.0->spacy[lookups]<4.0.0,>=2.0.0->alibi) (2.5.1)\n",
            "Requirement already satisfied: weasel<0.5.0,>=0.1.0 in /usr/local/lib/python3.11/dist-packages (from spacy<4.0.0,>=2.0.0->spacy[lookups]<4.0.0,>=2.0.0->alibi) (0.4.1)\n",
            "Requirement already satisfied: typer<1.0.0,>=0.3.0 in /usr/local/lib/python3.11/dist-packages (from spacy<4.0.0,>=2.0.0->spacy[lookups]<4.0.0,>=2.0.0->alibi) (0.15.2)\n",
            "Requirement already satisfied: jinja2 in /usr/local/lib/python3.11/dist-packages (from spacy<4.0.0,>=2.0.0->spacy[lookups]<4.0.0,>=2.0.0->alibi) (3.1.6)\n",
            "Requirement already satisfied: setuptools in /usr/local/lib/python3.11/dist-packages (from spacy<4.0.0,>=2.0.0->spacy[lookups]<4.0.0,>=2.0.0->alibi) (75.2.0)\n",
            "Requirement already satisfied: langcodes<4.0.0,>=3.2.0 in /usr/local/lib/python3.11/dist-packages (from spacy<4.0.0,>=2.0.0->spacy[lookups]<4.0.0,>=2.0.0->alibi) (3.5.0)\n",
            "Collecting spacy_lookups_data<1.1.0,>=1.0.3 (from spacy[lookups]<4.0.0,>=2.0.0->alibi)\n",
            "  Downloading spacy_lookups_data-1.0.5-py2.py3-none-any.whl.metadata (4.8 kB)\n",
            "Requirement already satisfied: filelock in /usr/local/lib/python3.11/dist-packages (from transformers<5.0.0,>=4.7.0->alibi) (3.18.0)\n",
            "Requirement already satisfied: huggingface-hub<1.0,>=0.30.0 in /usr/local/lib/python3.11/dist-packages (from transformers<5.0.0,>=4.7.0->alibi) (0.30.2)\n",
            "Requirement already satisfied: pyyaml>=5.1 in /usr/local/lib/python3.11/dist-packages (from transformers<5.0.0,>=4.7.0->alibi) (6.0.2)\n",
            "Requirement already satisfied: regex!=2019.12.17 in /usr/local/lib/python3.11/dist-packages (from transformers<5.0.0,>=4.7.0->alibi) (2024.11.6)\n",
            "Requirement already satisfied: tokenizers<0.22,>=0.21 in /usr/local/lib/python3.11/dist-packages (from transformers<5.0.0,>=4.7.0->alibi) (0.21.1)\n",
            "Requirement already satisfied: safetensors>=0.4.3 in /usr/local/lib/python3.11/dist-packages (from transformers<5.0.0,>=4.7.0->alibi) (0.5.3)\n",
            "Requirement already satisfied: fsspec>=2023.5.0 in /usr/local/lib/python3.11/dist-packages (from huggingface-hub<1.0,>=0.30.0->transformers<5.0.0,>=4.7.0->alibi) (2025.3.2)\n",
            "Requirement already satisfied: language-data>=1.2 in /usr/local/lib/python3.11/dist-packages (from langcodes<4.0.0,>=3.2.0->spacy<4.0.0,>=2.0.0->spacy[lookups]<4.0.0,>=2.0.0->alibi) (1.3.0)\n",
            "Requirement already satisfied: six>=1.5 in /usr/local/lib/python3.11/dist-packages (from python-dateutil>=2.7->matplotlib<4.0.0,>=3.0.0->alibi) (1.17.0)\n",
            "INFO: pip is looking at multiple versions of thinc to determine which version is compatible with other requirements. This could take a while.\n",
            "Collecting thinc<8.4.0,>=8.3.4 (from spacy<4.0.0,>=2.0.0->spacy[lookups]<4.0.0,>=2.0.0->alibi)\n",
            "  Downloading thinc-8.3.4-cp311-cp311-manylinux_2_17_x86_64.manylinux2014_x86_64.whl.metadata (15 kB)\n",
            "Collecting spacy[lookups]<4.0.0,>=2.0.0 (from alibi)\n",
            "  Downloading spacy-3.8.5-cp311-cp311-manylinux_2_17_x86_64.manylinux2014_x86_64.whl.metadata (27 kB)\n",
            "Collecting spacy<4.0.0,>=2.0.0 (from spacy[lookups]<4.0.0,>=2.0.0->alibi)\n",
            "  Downloading spacy-3.8.4-cp311-cp311-manylinux_2_17_x86_64.manylinux2014_x86_64.whl.metadata (27 kB)\n",
            "INFO: pip is still looking at multiple versions of thinc to determine which version is compatible with other requirements. This could take a while.\n",
            "  Downloading spacy-3.8.3-cp311-cp311-manylinux_2_17_x86_64.manylinux2014_x86_64.whl.metadata (27 kB)\n",
            "Collecting thinc<8.4.0,>=8.3.0 (from spacy<4.0.0,>=2.0.0->spacy[lookups]<4.0.0,>=2.0.0->alibi)\n",
            "  Downloading thinc-8.3.3-cp311-cp311-manylinux_2_17_x86_64.manylinux2014_x86_64.whl.metadata (15 kB)\n",
            "  Downloading thinc-8.3.2-cp311-cp311-manylinux_2_17_x86_64.manylinux2014_x86_64.whl.metadata (15 kB)\n",
            "  Downloading thinc-8.3.1-cp311-cp311-manylinux_2_17_x86_64.manylinux2014_x86_64.whl.metadata (15 kB)\n",
            "INFO: This is taking longer than usual. You might need to provide the dependency resolver with stricter constraints to reduce runtime. See https://pip.pypa.io/warnings/backtracking for guidance. If you want to abort this run, press Ctrl + C.\n",
            "  Downloading thinc-8.3.0-cp311-cp311-manylinux_2_17_x86_64.manylinux2014_x86_64.whl.metadata (15 kB)\n",
            "Collecting spacy<4.0.0,>=2.0.0 (from spacy[lookups]<4.0.0,>=2.0.0->alibi)\n",
            "  Downloading spacy-3.8.2-cp311-cp311-manylinux_2_17_x86_64.manylinux2014_x86_64.whl.metadata (27 kB)\n",
            "  Downloading spacy-3.7.5-cp311-cp311-manylinux_2_17_x86_64.manylinux2014_x86_64.whl.metadata (27 kB)\n",
            "Collecting thinc<8.3.0,>=8.2.2 (from spacy<4.0.0,>=2.0.0->spacy[lookups]<4.0.0,>=2.0.0->alibi)\n",
            "  Downloading thinc-8.2.5-cp311-cp311-manylinux_2_17_x86_64.manylinux2014_x86_64.whl.metadata (15 kB)\n",
            "Requirement already satisfied: confection<1.0.0,>=0.0.1 in /usr/local/lib/python3.11/dist-packages (from thinc<8.3.0,>=8.2.2->spacy<4.0.0,>=2.0.0->spacy[lookups]<4.0.0,>=2.0.0->alibi) (0.1.5)\n",
            "INFO: pip is looking at multiple versions of spacy[lookups] to determine which version is compatible with other requirements. This could take a while.\n",
            "Requirement already satisfied: click>=8.0.0 in /usr/local/lib/python3.11/dist-packages (from typer<1.0.0,>=0.3.0->spacy<4.0.0,>=2.0.0->spacy[lookups]<4.0.0,>=2.0.0->alibi) (8.1.8)\n",
            "Requirement already satisfied: shellingham>=1.3.0 in /usr/local/lib/python3.11/dist-packages (from typer<1.0.0,>=0.3.0->spacy<4.0.0,>=2.0.0->spacy[lookups]<4.0.0,>=2.0.0->alibi) (1.5.4)\n",
            "Requirement already satisfied: rich>=10.11.0 in /usr/local/lib/python3.11/dist-packages (from typer<1.0.0,>=0.3.0->spacy<4.0.0,>=2.0.0->spacy[lookups]<4.0.0,>=2.0.0->alibi) (13.9.4)\n",
            "Requirement already satisfied: cloudpathlib<1.0.0,>=0.7.0 in /usr/local/lib/python3.11/dist-packages (from weasel<0.5.0,>=0.1.0->spacy<4.0.0,>=2.0.0->spacy[lookups]<4.0.0,>=2.0.0->alibi) (0.21.0)\n",
            "Requirement already satisfied: smart-open<8.0.0,>=5.2.1 in /usr/local/lib/python3.11/dist-packages (from weasel<0.5.0,>=0.1.0->spacy<4.0.0,>=2.0.0->spacy[lookups]<4.0.0,>=2.0.0->alibi) (7.1.0)\n",
            "Requirement already satisfied: MarkupSafe>=2.0 in /usr/local/lib/python3.11/dist-packages (from jinja2->spacy<4.0.0,>=2.0.0->spacy[lookups]<4.0.0,>=2.0.0->alibi) (3.0.2)\n",
            "Requirement already satisfied: marisa-trie>=1.1.0 in /usr/local/lib/python3.11/dist-packages (from language-data>=1.2->langcodes<4.0.0,>=3.2.0->spacy<4.0.0,>=2.0.0->spacy[lookups]<4.0.0,>=2.0.0->alibi) (1.2.1)\n",
            "Requirement already satisfied: markdown-it-py>=2.2.0 in /usr/local/lib/python3.11/dist-packages (from rich>=10.11.0->typer<1.0.0,>=0.3.0->spacy<4.0.0,>=2.0.0->spacy[lookups]<4.0.0,>=2.0.0->alibi) (3.0.0)\n",
            "Requirement already satisfied: pygments<3.0.0,>=2.13.0 in /usr/local/lib/python3.11/dist-packages (from rich>=10.11.0->typer<1.0.0,>=0.3.0->spacy<4.0.0,>=2.0.0->spacy[lookups]<4.0.0,>=2.0.0->alibi) (2.18.0)\n",
            "Requirement already satisfied: wrapt in /usr/local/lib/python3.11/dist-packages (from smart-open<8.0.0,>=5.2.1->weasel<0.5.0,>=0.1.0->spacy<4.0.0,>=2.0.0->spacy[lookups]<4.0.0,>=2.0.0->alibi) (1.17.2)\n",
            "Requirement already satisfied: mdurl~=0.1 in /usr/local/lib/python3.11/dist-packages (from markdown-it-py>=2.2.0->rich>=10.11.0->typer<1.0.0,>=0.3.0->spacy<4.0.0,>=2.0.0->spacy[lookups]<4.0.0,>=2.0.0->alibi) (0.1.2)\n",
            "Downloading alibi-0.9.6-py3-none-any.whl (522 kB)\n",
            "\u001b[2K   \u001b[90m━━━━━━━━━━━━━━━━━━━━━━━━━━━━━━━━━━━━━━━━\u001b[0m \u001b[32m522.1/522.1 kB\u001b[0m \u001b[31m16.6 MB/s\u001b[0m eta \u001b[36m0:00:00\u001b[0m\n",
            "\u001b[?25hDownloading alibi_detect-0.12.0-py3-none-any.whl (381 kB)\n",
            "\u001b[2K   \u001b[90m━━━━━━━━━━━━━━━━━━━━━━━━━━━━━━━━━━━━━━━━\u001b[0m \u001b[32m381.5/381.5 kB\u001b[0m \u001b[31m12.3 MB/s\u001b[0m eta \u001b[36m0:00:00\u001b[0m\n",
            "\u001b[?25hDownloading attrs-23.2.0-py3-none-any.whl (60 kB)\n",
            "\u001b[2K   \u001b[90m━━━━━━━━━━━━━━━━━━━━━━━━━━━━━━━━━━━━━━━━\u001b[0m \u001b[32m60.8/60.8 kB\u001b[0m \u001b[31m5.4 MB/s\u001b[0m eta \u001b[36m0:00:00\u001b[0m\n",
            "\u001b[?25hDownloading blis-0.7.11-cp311-cp311-manylinux_2_17_x86_64.manylinux2014_x86_64.whl (10.2 MB)\n",
            "\u001b[2K   \u001b[90m━━━━━━━━━━━━━━━━━━━━━━━━━━━━━━━━━━━━━━━━\u001b[0m \u001b[32m10.2/10.2 MB\u001b[0m \u001b[31m54.2 MB/s\u001b[0m eta \u001b[36m0:00:00\u001b[0m\n",
            "\u001b[?25hDownloading dill-0.3.9-py3-none-any.whl (119 kB)\n",
            "\u001b[2K   \u001b[90m━━━━━━━━━━━━━━━━━━━━━━━━━━━━━━━━━━━━━━━━\u001b[0m \u001b[32m119.4/119.4 kB\u001b[0m \u001b[31m8.0 MB/s\u001b[0m eta \u001b[36m0:00:00\u001b[0m\n",
            "\u001b[?25hDownloading numba-0.59.1-cp311-cp311-manylinux2014_x86_64.manylinux_2_17_x86_64.whl (3.7 MB)\n",
            "\u001b[2K   \u001b[90m━━━━━━━━━━━━━━━━━━━━━━━━━━━━━━━━━━━━━━━━\u001b[0m \u001b[32m3.7/3.7 MB\u001b[0m \u001b[31m75.5 MB/s\u001b[0m eta \u001b[36m0:00:00\u001b[0m\n",
            "\u001b[?25hDownloading numpy-1.26.4-cp311-cp311-manylinux_2_17_x86_64.manylinux2014_x86_64.whl (18.3 MB)\n",
            "\u001b[2K   \u001b[90m━━━━━━━━━━━━━━━━━━━━━━━━━━━━━━━━━━━━━━━━\u001b[0m \u001b[32m18.3/18.3 MB\u001b[0m \u001b[31m60.0 MB/s\u001b[0m eta \u001b[36m0:00:00\u001b[0m\n",
            "\u001b[?25hDownloading pillow-10.4.0-cp311-cp311-manylinux_2_28_x86_64.whl (4.5 MB)\n",
            "\u001b[2K   \u001b[90m━━━━━━━━━━━━━━━━━━━━━━━━━━━━━━━━━━━━━━━━\u001b[0m \u001b[32m4.5/4.5 MB\u001b[0m \u001b[31m67.8 MB/s\u001b[0m eta \u001b[36m0:00:00\u001b[0m\n",
            "\u001b[?25hDownloading scikit_image-0.22.0-cp311-cp311-manylinux_2_17_x86_64.manylinux2014_x86_64.whl (14.7 MB)\n",
            "\u001b[2K   \u001b[90m━━━━━━━━━━━━━━━━━━━━━━━━━━━━━━━━━━━━━━━━\u001b[0m \u001b[32m14.7/14.7 MB\u001b[0m \u001b[31m62.7 MB/s\u001b[0m eta \u001b[36m0:00:00\u001b[0m\n",
            "\u001b[?25hDownloading spacy-3.7.5-cp311-cp311-manylinux_2_17_x86_64.manylinux2014_x86_64.whl (6.6 MB)\n",
            "\u001b[2K   \u001b[90m━━━━━━━━━━━━━━━━━━━━━━━━━━━━━━━━━━━━━━━━\u001b[0m \u001b[32m6.6/6.6 MB\u001b[0m \u001b[31m40.4 MB/s\u001b[0m eta \u001b[36m0:00:00\u001b[0m\n",
            "\u001b[?25hDownloading thinc-8.2.5-cp311-cp311-manylinux_2_17_x86_64.manylinux2014_x86_64.whl (920 kB)\n",
            "\u001b[2K   \u001b[90m━━━━━━━━━━━━━━━━━━━━━━━━━━━━━━━━━━━━━━━━\u001b[0m \u001b[32m920.2/920.2 kB\u001b[0m \u001b[31m31.1 MB/s\u001b[0m eta \u001b[36m0:00:00\u001b[0m\n",
            "\u001b[?25hDownloading llvmlite-0.42.0-cp311-cp311-manylinux_2_17_x86_64.manylinux2014_x86_64.whl (43.8 MB)\n",
            "\u001b[2K   \u001b[90m━━━━━━━━━━━━━━━━━━━━━━━━━━━━━━━━━━━━━━━━\u001b[0m \u001b[32m43.8/43.8 MB\u001b[0m \u001b[31m8.9 MB/s\u001b[0m eta \u001b[36m0:00:00\u001b[0m\n",
            "\u001b[?25hDownloading spacy_lookups_data-1.0.5-py2.py3-none-any.whl (98.5 MB)\n",
            "\u001b[2K   \u001b[90m━━━━━━━━━━━━━━━━━━━━━━━━━━━━━━━━━━━━━━━━\u001b[0m \u001b[32m98.5/98.5 MB\u001b[0m \u001b[31m8.2 MB/s\u001b[0m eta \u001b[36m0:00:00\u001b[0m\n",
            "\u001b[?25hInstalling collected packages: spacy_lookups_data, Pillow, numpy, llvmlite, dill, attrs, numba, blis, scikit-image, thinc, spacy, alibi_detect, alibi\n",
            "  Attempting uninstall: Pillow\n",
            "    Found existing installation: pillow 11.1.0\n",
            "    Uninstalling pillow-11.1.0:\n",
            "      Successfully uninstalled pillow-11.1.0\n",
            "  Attempting uninstall: numpy\n",
            "    Found existing installation: numpy 2.0.2\n",
            "    Uninstalling numpy-2.0.2:\n",
            "      Successfully uninstalled numpy-2.0.2\n",
            "  Attempting uninstall: llvmlite\n",
            "    Found existing installation: llvmlite 0.43.0\n",
            "    Uninstalling llvmlite-0.43.0:\n",
            "      Successfully uninstalled llvmlite-0.43.0\n",
            "  Attempting uninstall: attrs\n",
            "    Found existing installation: attrs 25.3.0\n",
            "    Uninstalling attrs-25.3.0:\n",
            "      Successfully uninstalled attrs-25.3.0\n",
            "  Attempting uninstall: numba\n",
            "    Found existing installation: numba 0.60.0\n",
            "    Uninstalling numba-0.60.0:\n",
            "      Successfully uninstalled numba-0.60.0\n",
            "  Attempting uninstall: blis\n",
            "    Found existing installation: blis 1.3.0\n",
            "    Uninstalling blis-1.3.0:\n",
            "      Successfully uninstalled blis-1.3.0\n",
            "  Attempting uninstall: scikit-image\n",
            "    Found existing installation: scikit-image 0.25.2\n",
            "    Uninstalling scikit-image-0.25.2:\n",
            "      Successfully uninstalled scikit-image-0.25.2\n",
            "  Attempting uninstall: thinc\n",
            "    Found existing installation: thinc 8.3.6\n",
            "    Uninstalling thinc-8.3.6:\n",
            "      Successfully uninstalled thinc-8.3.6\n",
            "  Attempting uninstall: spacy\n",
            "    Found existing installation: spacy 3.8.5\n",
            "    Uninstalling spacy-3.8.5:\n",
            "      Successfully uninstalled spacy-3.8.5\n",
            "Successfully installed Pillow-10.4.0 alibi-0.9.6 alibi_detect-0.12.0 attrs-23.2.0 blis-0.7.11 dill-0.3.9 llvmlite-0.42.0 numba-0.59.1 numpy-1.26.4 scikit-image-0.22.0 spacy-3.7.5 spacy_lookups_data-1.0.5 thinc-8.2.5\n"
          ]
        },
        {
          "output_type": "display_data",
          "data": {
            "application/vnd.colab-display-data+json": {
              "pip_warning": {
                "packages": [
                  "PIL"
                ]
              },
              "id": "c7b20ddb735842e2a203fdf8de5f0f1d"
            }
          },
          "metadata": {}
        }
      ],
      "source": [
        "pip install alibi alibi_detect --no-warn-script-location"
      ]
    },
    {
      "cell_type": "code",
      "source": [
        "pip install fastapi uvicorn pyngrok --no-warn-script-location"
      ],
      "metadata": {
        "colab": {
          "base_uri": "https://localhost:8080/"
        },
        "id": "ypiaiG54EA78",
        "outputId": "cab7da16-fa29-4ac2-8acb-9cdfe5e61955"
      },
      "id": "ypiaiG54EA78",
      "execution_count": 1,
      "outputs": [
        {
          "output_type": "stream",
          "name": "stdout",
          "text": [
            "Requirement already satisfied: fastapi in /usr/local/lib/python3.11/dist-packages (0.115.12)\n",
            "Requirement already satisfied: uvicorn in /usr/local/lib/python3.11/dist-packages (0.34.2)\n",
            "Requirement already satisfied: pyngrok in /usr/local/lib/python3.11/dist-packages (7.2.4)\n",
            "Requirement already satisfied: starlette<0.47.0,>=0.40.0 in /usr/local/lib/python3.11/dist-packages (from fastapi) (0.46.2)\n",
            "Requirement already satisfied: pydantic!=1.8,!=1.8.1,!=2.0.0,!=2.0.1,!=2.1.0,<3.0.0,>=1.7.4 in /usr/local/lib/python3.11/dist-packages (from fastapi) (2.11.3)\n",
            "Requirement already satisfied: typing-extensions>=4.8.0 in /usr/local/lib/python3.11/dist-packages (from fastapi) (4.13.2)\n",
            "Requirement already satisfied: click>=7.0 in /usr/local/lib/python3.11/dist-packages (from uvicorn) (8.1.8)\n",
            "Requirement already satisfied: h11>=0.8 in /usr/local/lib/python3.11/dist-packages (from uvicorn) (0.14.0)\n",
            "Requirement already satisfied: PyYAML>=5.1 in /usr/local/lib/python3.11/dist-packages (from pyngrok) (6.0.2)\n",
            "Requirement already satisfied: annotated-types>=0.6.0 in /usr/local/lib/python3.11/dist-packages (from pydantic!=1.8,!=1.8.1,!=2.0.0,!=2.0.1,!=2.1.0,<3.0.0,>=1.7.4->fastapi) (0.7.0)\n",
            "Requirement already satisfied: pydantic-core==2.33.1 in /usr/local/lib/python3.11/dist-packages (from pydantic!=1.8,!=1.8.1,!=2.0.0,!=2.0.1,!=2.1.0,<3.0.0,>=1.7.4->fastapi) (2.33.1)\n",
            "Requirement already satisfied: typing-inspection>=0.4.0 in /usr/local/lib/python3.11/dist-packages (from pydantic!=1.8,!=1.8.1,!=2.0.0,!=2.0.1,!=2.1.0,<3.0.0,>=1.7.4->fastapi) (0.4.0)\n",
            "Requirement already satisfied: anyio<5,>=3.6.2 in /usr/local/lib/python3.11/dist-packages (from starlette<0.47.0,>=0.40.0->fastapi) (4.9.0)\n",
            "Requirement already satisfied: idna>=2.8 in /usr/local/lib/python3.11/dist-packages (from anyio<5,>=3.6.2->starlette<0.47.0,>=0.40.0->fastapi) (3.10)\n",
            "Requirement already satisfied: sniffio>=1.1 in /usr/local/lib/python3.11/dist-packages (from anyio<5,>=3.6.2->starlette<0.47.0,>=0.40.0->fastapi) (1.3.1)\n"
          ]
        }
      ]
    },
    {
      "cell_type": "code",
      "source": [
        "!pip install yfinance\n",
        "!pip install ta"
      ],
      "metadata": {
        "colab": {
          "base_uri": "https://localhost:8080/"
        },
        "id": "-3-3-eqkQwqz",
        "outputId": "1de05e06-eb94-4c10-94c5-18289f82477f"
      },
      "id": "-3-3-eqkQwqz",
      "execution_count": 6,
      "outputs": [
        {
          "output_type": "stream",
          "name": "stdout",
          "text": [
            "Requirement already satisfied: yfinance in /usr/local/lib/python3.11/dist-packages (0.2.55)\n",
            "Requirement already satisfied: pandas>=1.3.0 in /usr/local/lib/python3.11/dist-packages (from yfinance) (2.2.2)\n",
            "Requirement already satisfied: numpy>=1.16.5 in /usr/local/lib/python3.11/dist-packages (from yfinance) (1.26.4)\n",
            "Requirement already satisfied: requests>=2.31 in /usr/local/lib/python3.11/dist-packages (from yfinance) (2.32.3)\n",
            "Requirement already satisfied: multitasking>=0.0.7 in /usr/local/lib/python3.11/dist-packages (from yfinance) (0.0.11)\n",
            "Requirement already satisfied: platformdirs>=2.0.0 in /usr/local/lib/python3.11/dist-packages (from yfinance) (4.3.7)\n",
            "Requirement already satisfied: pytz>=2022.5 in /usr/local/lib/python3.11/dist-packages (from yfinance) (2025.2)\n",
            "Requirement already satisfied: frozendict>=2.3.4 in /usr/local/lib/python3.11/dist-packages (from yfinance) (2.4.6)\n",
            "Requirement already satisfied: peewee>=3.16.2 in /usr/local/lib/python3.11/dist-packages (from yfinance) (3.17.9)\n",
            "Requirement already satisfied: beautifulsoup4>=4.11.1 in /usr/local/lib/python3.11/dist-packages (from yfinance) (4.13.4)\n",
            "Requirement already satisfied: soupsieve>1.2 in /usr/local/lib/python3.11/dist-packages (from beautifulsoup4>=4.11.1->yfinance) (2.6)\n",
            "Requirement already satisfied: typing-extensions>=4.0.0 in /usr/local/lib/python3.11/dist-packages (from beautifulsoup4>=4.11.1->yfinance) (4.13.2)\n",
            "Requirement already satisfied: python-dateutil>=2.8.2 in /usr/local/lib/python3.11/dist-packages (from pandas>=1.3.0->yfinance) (2.8.2)\n",
            "Requirement already satisfied: tzdata>=2022.7 in /usr/local/lib/python3.11/dist-packages (from pandas>=1.3.0->yfinance) (2025.2)\n",
            "Requirement already satisfied: charset-normalizer<4,>=2 in /usr/local/lib/python3.11/dist-packages (from requests>=2.31->yfinance) (3.4.1)\n",
            "Requirement already satisfied: idna<4,>=2.5 in /usr/local/lib/python3.11/dist-packages (from requests>=2.31->yfinance) (3.10)\n",
            "Requirement already satisfied: urllib3<3,>=1.21.1 in /usr/local/lib/python3.11/dist-packages (from requests>=2.31->yfinance) (2.3.0)\n",
            "Requirement already satisfied: certifi>=2017.4.17 in /usr/local/lib/python3.11/dist-packages (from requests>=2.31->yfinance) (2025.1.31)\n",
            "Requirement already satisfied: six>=1.5 in /usr/local/lib/python3.11/dist-packages (from python-dateutil>=2.8.2->pandas>=1.3.0->yfinance) (1.17.0)\n",
            "Collecting ta\n",
            "  Downloading ta-0.11.0.tar.gz (25 kB)\n",
            "  Preparing metadata (setup.py) ... \u001b[?25l\u001b[?25hdone\n",
            "Requirement already satisfied: numpy in /usr/local/lib/python3.11/dist-packages (from ta) (1.26.4)\n",
            "Requirement already satisfied: pandas in /usr/local/lib/python3.11/dist-packages (from ta) (2.2.2)\n",
            "Requirement already satisfied: python-dateutil>=2.8.2 in /usr/local/lib/python3.11/dist-packages (from pandas->ta) (2.8.2)\n",
            "Requirement already satisfied: pytz>=2020.1 in /usr/local/lib/python3.11/dist-packages (from pandas->ta) (2025.2)\n",
            "Requirement already satisfied: tzdata>=2022.7 in /usr/local/lib/python3.11/dist-packages (from pandas->ta) (2025.2)\n",
            "Requirement already satisfied: six>=1.5 in /usr/local/lib/python3.11/dist-packages (from python-dateutil>=2.8.2->pandas->ta) (1.17.0)\n",
            "Building wheels for collected packages: ta\n",
            "  Building wheel for ta (setup.py) ... \u001b[?25l\u001b[?25hdone\n",
            "  Created wheel for ta: filename=ta-0.11.0-py3-none-any.whl size=29412 sha256=211c025fe7b2f8bba66993e9af7db1e8e4b8d36272b15ec8d716f0f07b633b45\n",
            "  Stored in directory: /root/.cache/pip/wheels/a1/d7/29/7781cc5eb9a3659d032d7d15bdd0f49d07d2b24fec29f44bc4\n",
            "Successfully built ta\n",
            "Installing collected packages: ta\n",
            "Successfully installed ta-0.11.0\n"
          ]
        }
      ]
    },
    {
      "cell_type": "markdown",
      "id": "f21c9251-aadf-43d1-acf3-f58ddc7a555d",
      "metadata": {
        "id": "f21c9251-aadf-43d1-acf3-f58ddc7a555d"
      },
      "source": [
        "### **Detecting the Drift between the Train Dataset and Production Dataset**\n",
        "\n",
        "**About Data Drift -**\n",
        "> Data drift is a change in the statistical properties of the input data used to train a machine learning model, which can lead to a model's performance degrading. It's important to detect data drift because it can significantly impact a model's accuracy and reliability.\n",
        "\n",
        "> Reasons why data drift is important to predict:\n",
        ">> **Model performance:** When a model's input data distribution changes, the model's assumptions become invalid, which can lead to suboptimal predictions and inaccurate results.\n",
        ">> **Model failure:** Data drift is one of the two main reasons for silent model failure.\n",
        ">> **Identifying causes:** Investigating the characteristics of an observed drift can help identify the causes of any performance change\n",
        "\n",
        "**source -**\n",
        " - *https://www.evidentlyai.com/ml-in-production/data-drift#:~:text=Data%20drift%20is%20a%20shift,on%20or%20earlier%20production%20data.*\n",
        " - https://encord.com/blog/detect-data-drift/#:~:text=Akruti%20Acharya,predictions%20and%20potentially%20inaccurate%20results.\n",
        " - https://nannyml.readthedocs.io/en/stable/tutorials/detecting_data_drift.html#:~:text=The%20model%20has%20been%20trained,you%20to%20detect%20data%20drift."
      ]
    },
    {
      "cell_type": "markdown",
      "source": [
        "**Steps Taken -**\n",
        "1. We load the Train and Production datasets that are in parquet format from Github (repositry where the data is being version controlled).\n",
        "2. The Tabular drift detector (**\"TabularDrift\"**) is initialized with the training data (trainDataset_df) and significane level of p=0.05 (setting threshold) to create a drift detector model.\n",
        "3. The detector model is then used to **predict the overall drift** and **feature wise drift** between the Production dataset (prodDataset_df) and Train dataset.\n",
        "4. To test the deviation between the distribution of features in train and production dataset we use Chi square and K-S test methods."
      ],
      "metadata": {
        "id": "GCW6Tg512x7l"
      },
      "id": "GCW6Tg512x7l"
    },
    {
      "cell_type": "code",
      "execution_count": 15,
      "id": "17b65d58-0ac6-450d-958d-895149911b7d",
      "metadata": {
        "id": "17b65d58-0ac6-450d-958d-895149911b7d"
      },
      "outputs": [],
      "source": [
        "# Importing the necessary libraries\n",
        "import pandas as pd\n",
        "import numpy as np\n",
        "import matplotlib.pyplot as plt\n",
        "import seaborn as sn\n",
        "import alibi\n",
        "from alibi_detect.cd import ChiSquareDrift, TabularDrift\n",
        "from alibi_detect.saving import save_detector, load_detector\n",
        "\n",
        "from contextlib import asynccontextmanager\n",
        "from pydantic import BaseModel\n",
        "from multiprocessing import Process\n",
        "from threading import Thread\n",
        "\n",
        "import requests\n",
        "\n",
        "# Setting the no. of records display in output and no. of characters displayed in a column\n",
        "pd.options.display.max_columns = 20 # Max 20 rows displayed. First and Last 10 rows shown, if limit exceeded\n",
        "pd.options.display.max_rows = 20 # Max 20 columns displayed. First and Last 10 columns shown, if limit exceeded\n",
        "pd.options.display.max_colwidth = 80 # Max of 80 characters displayed per column. Post limit truncated with an ellipsis (...)\n",
        "np.set_printoptions(precision=4, suppress=True) # Displays only upto 4 decimals.\n",
        "\n",
        "# Using \"warnings\" module to suppress/ignore warnings thrown by methods\n",
        "import warnings\n",
        "warnings.filterwarnings('ignore')"
      ]
    },
    {
      "cell_type": "code",
      "source": [
        "from pyngrok import ngrok"
      ],
      "metadata": {
        "id": "An2-XA_ZEClp"
      },
      "id": "An2-XA_ZEClp",
      "execution_count": 3,
      "outputs": []
    },
    {
      "cell_type": "code",
      "source": [
        "# Storing the ngrok auth-token which will be later used to authorize the web user posting the API request when connecting to the API service hosted at port 8000\n",
        "ngrok.set_auth_token(\"2vxw3xzdUxYQCVkmEwessJaQxY7_CtqFHYEmWRbKF2zA5VNB\")"
      ],
      "metadata": {
        "colab": {
          "base_uri": "https://localhost:8080/"
        },
        "id": "Twj_QPn5EH2m",
        "outputId": "1e238ce5-b158-49c9-be5c-19cb512c942e"
      },
      "id": "Twj_QPn5EH2m",
      "execution_count": 4,
      "outputs": [
        {
          "output_type": "stream",
          "name": "stdout",
          "text": []
        }
      ]
    },
    {
      "cell_type": "code",
      "source": [
        "from fastapi import FastAPI, HTTPException\n",
        "from pydantic import BaseModel\n",
        "import pandas as pd\n",
        "import numpy as np\n",
        "from joblib import load\n",
        "from sklearn.preprocessing import MinMaxScaler\n",
        "import yfinance as yf\n",
        "import ta\n",
        "import re\n",
        "import datetime\n",
        "import logging\n",
        "import tensorflow as tf\n",
        "from alibi_detect.cd import TabularDrift\n",
        "from alibi_detect.utils.saving import save_detector, load_detector\n",
        "\n",
        "# Initialize FastAPI app\n",
        "app1 = FastAPI()\n",
        "\n",
        "# Logger setup\n",
        "logger = logging.getLogger(__name__)\n",
        "logging.basicConfig(level=logging.INFO)\n",
        "\n",
        "# Input schema\n",
        "class PredictionRequest(BaseModel):\n",
        "    Date: str\n",
        "    range: str\n",
        "    n_days: int\n",
        "    stock: str\n",
        "\n",
        "@app1.post(\"/checkDrift\")\n",
        "def check_drift(input_data: PredictionRequest):\n",
        "    try:\n",
        "        logger.info(f\"Received prediction request: {input_data}\")\n",
        "\n",
        "        # Extract ticker\n",
        "        ticker_match = re.search(r'\\((\\w+)\\)', input_data.stock)\n",
        "        if not ticker_match:\n",
        "            raise HTTPException(status_code=400, detail=\"Invalid stock format\")\n",
        "        ticker_code = ticker_match.group(1)\n",
        "\n",
        "        # Load historical stock data\n",
        "        stock = yf.Ticker(ticker_code)\n",
        "        stock_data = stock.history(period=\"1y\")\n",
        "\n",
        "        df = stock_data.reset_index()\n",
        "        df['Days'] = (df['Date'] - df['Date'].min()).dt.days\n",
        "\n",
        "        data = pd.concat([df[['Date', 'Days']], df[['Close', 'Volume']]], axis=1)\n",
        "\n",
        "        # Add technical indicators\n",
        "        data['SMA_10'] = ta.trend.sma_indicator(data['Close'], window=10)\n",
        "        data['RSI'] = ta.momentum.rsi(data['Close'], window=14)\n",
        "        data['MACD'] = ta.trend.macd_diff(data['Close'])\n",
        "        data.dropna(inplace=True)\n",
        "\n",
        "        # Parse and validate input dates\n",
        "        start_date = pd.to_datetime(input_data.Date, utc=True)\n",
        "        if not isinstance(start_date, pd.Timestamp):\n",
        "            raise HTTPException(status_code=400, detail=\"Invalid date format\")\n",
        "\n",
        "        n_days = int(input_data.n_days)\n",
        "        if n_days <= 0:\n",
        "            raise HTTPException(status_code=400, detail=\"n_days must be positive\")\n",
        "\n",
        "        VALID_START = pd.to_datetime('2025-04-01', utc=True)\n",
        "\n",
        "        # Prepare data for prediction\n",
        "        forecast_days = n_days\n",
        "        prediction_used_data = data[-max(60, forecast_days * 2):]\n",
        "        training_data = data.iloc[:-len(prediction_used_data)]\n",
        "\n",
        "        numerical_features = ['Close', 'Volume', 'SMA_10', 'RSI', 'MACD']\n",
        "        categorical_features = []\n",
        "        x_features = numerical_features + categorical_features\n",
        "\n",
        "        # Prepare for drift detection\n",
        "        catg_vars = categorical_features\n",
        "        categories_per_feature = {x_features.index(f): None for f in catg_vars}\n",
        "        cd = TabularDrift(\n",
        "            training_data[x_features].values,\n",
        "            p_val=0.05,\n",
        "            categories_per_feature=categories_per_feature\n",
        "        )\n",
        "\n",
        "        filepath = 'datadrift'\n",
        "        save_detector(cd, filepath, legacy=True)\n",
        "        cd = load_detector(filepath)\n",
        "\n",
        "        # Predict drift\n",
        "        drift_predictor = cd.predict(prediction_used_data[x_features].to_numpy())\n",
        "        drift = drift_predictor['data']['is_drift']\n",
        "        p_val_list = drift_predictor['data']['p_val']\n",
        "        threshold = drift_predictor['data']['threshold']\n",
        "\n",
        "        stat = []\n",
        "        stat_val = []\n",
        "        fname = []\n",
        "\n",
        "        for f in range(cd.n_features):\n",
        "            stat.append('Chi2' if f in categories_per_feature else 'K-S')\n",
        "            stat_val.append(drift_predictor['data']['distance'][f])\n",
        "            fname.append(x_features[f])\n",
        "\n",
        "        summary_df = pd.DataFrame({\n",
        "            \"Feature Name\": fname,\n",
        "            \"Statistical Test\": stat,\n",
        "            \"Statistical Value\": stat_val,\n",
        "            \"P-Value\": [f'{val:.3f}' for val in p_val_list],\n",
        "            \"Drift Detected\": [\"Yes\" if val < 0.05 else \"No\" for val in p_val_list]\n",
        "        })\n",
        "\n",
        "        return {\n",
        "            'overall_drift_status': drift,\n",
        "            'threshold_value': threshold,\n",
        "            'feature_summary': summary_df.to_dict(orient='records'),\n",
        "            'numeric_features_train': training_data[x_features].tail(10).to_dict(orient='records'),\n",
        "            'numeric_feature_predict': prediction_used_data[x_features].head(10).to_dict(orient='records'),\n",
        "            'num_features': numerical_features,\n",
        "            'catg_features': categorical_features\n",
        "        }\n",
        "\n",
        "    except Exception as e:\n",
        "        logger.error(f\"Prediction error: {str(e)}\", exc_info=True)\n",
        "        raise HTTPException(status_code=500, detail=f\"Prediction error: {str(e)}\")\n"
      ],
      "metadata": {
        "id": "nPE9BYmdEK6p"
      },
      "id": "nPE9BYmdEK6p",
      "execution_count": 7,
      "outputs": []
    },
    {
      "cell_type": "markdown",
      "source": [
        "#### **Chi Square Test for Numeric and Kolmogorov-Smirnov (K-S) Test for Categorical Features**\n",
        "Both the Chi test and K-S test are performed to Determines if a variable is likely to come from a given distribution.\n",
        "\n",
        "> **Chi Square Test-**\n",
        "The Chi Square value indicates the deviation between the observed and expected frequencies for categoricl features.\n",
        ">> A **higher** values indicates potential drift and a **lower** value indicates less deviation.\n",
        "\n",
        "**source -** *https://www.scribbr.com/statistics/chi-square-distribution-table/#:~:text=A%20chi%2Dsquare%20distribution%20is,range%20is%200%20to%20%E2%88%9E.*\n",
        "\n",
        "> **K-S Test-**\n",
        "The K-S test measures the maximum difference between two cumulative distributions for numerical features.\n",
        ">> A **lower** K-S value indicates smaller differences , while a **higher** K-S value suggests a larger deviation.\n",
        "\n",
        "**source -** *https://towardsdatascience.com/evaluating-classification-models-with-kolmogorov-smirnov-ks-test-e211025f5573*\n"
      ],
      "metadata": {
        "id": "Gqm9120J71fu"
      },
      "id": "Gqm9120J71fu"
    },
    {
      "cell_type": "markdown",
      "source": [
        "#### **Graphical Representation of Drift in dataset for Numerical and Categorical data**\n",
        "> In this stage we will be visualizing the disparity in data set for continuous range data - Numerical datatype and discrete ranges data - Categorical datatypes.\n",
        "\n",
        "> Since distribution of data for each feature of both datasets (Train and Production) will be overlapping each other, we will be able to see patterns if any type or value (low/high) is concentrated in either of the datasets.\n",
        "\n",
        "> **KDE Plot -**\n",
        ">> Kernel Density Estimate is used for visualizing the Probability Density of a continuous variable. It depicts the probability density at different values in a continuous variable.\n",
        "\n",
        ">> The KDE plot visually represents the distribution of data, providing insights into its shape, central tendency, and spread.\n",
        "\n",
        "> **Bar Plot -**\n",
        ">> A bar plot uses rectangular bars to represent data categories, with bar length or height proportional to their values. It compares discrete categories, with one axis for categories and the other for values.\n",
        "\n",
        "\n",
        "**source -**\n",
        "- *https://www.geeksforgeeks.org/bar-plot-in-matplotlib/*\n",
        "- *https://www.geeksforgeeks.org/kde-plot-visualization-with-pandas-and-seaborn/*"
      ],
      "metadata": {
        "id": "BUjlnQSzBV8G"
      },
      "id": "BUjlnQSzBV8G"
    },
    {
      "cell_type": "code",
      "source": [
        "import uvicorn\n",
        "# Starting a local server at the desired endpoind to host the service/application\n",
        "def run_server():\n",
        "    uvicorn.run(app1, host=\"0.0.0.0\", port=9090, log_level=\"info\")\n",
        "\n",
        "# Threading is used to allow the service to run without interupting the main program that is being executed\n",
        "thread = Thread(target=run_server, daemon=True)\n",
        "thread.start()"
      ],
      "metadata": {
        "id": "76yrWEAmZEuW"
      },
      "id": "76yrWEAmZEuW",
      "execution_count": 10,
      "outputs": []
    },
    {
      "cell_type": "code",
      "source": [
        "# Expose the FastAPI app\n",
        "public_url = ngrok.connect(9090)\n",
        "print(f\"Public URL: {public_url}\")"
      ],
      "metadata": {
        "colab": {
          "base_uri": "https://localhost:8080/"
        },
        "id": "4OlzAof6Pdqv",
        "outputId": "08d490e2-ef4e-458b-ef1e-0409e29374c4"
      },
      "id": "4OlzAof6Pdqv",
      "execution_count": 11,
      "outputs": [
        {
          "output_type": "stream",
          "name": "stdout",
          "text": [
            "Public URL: NgrokTunnel: \"https://03e6-34-32-182-106.ngrok-free.app\" -> \"http://localhost:9090\"\n"
          ]
        }
      ]
    },
    {
      "cell_type": "markdown",
      "source": [
        "**Exporting the Public URL**"
      ],
      "metadata": {
        "id": "-cpJ2YKpPm0E"
      },
      "id": "-cpJ2YKpPm0E"
    },
    {
      "cell_type": "code",
      "source": [
        "# Exporting the Ngrok Public (secure link) URL to a file for using in Streamlit\n",
        "with open(\"ngrokPublicURL2.txt\", \"w\") as f:\n",
        "    f.write(public_url.public_url)"
      ],
      "metadata": {
        "id": "CTcoG1EoPnBj"
      },
      "id": "CTcoG1EoPnBj",
      "execution_count": 19,
      "outputs": []
    },
    {
      "cell_type": "markdown",
      "source": [
        "#### **Testing the API endpoint**"
      ],
      "metadata": {
        "id": "uknovDwtPw0W"
      },
      "id": "uknovDwtPw0W"
    },
    {
      "cell_type": "code",
      "source": [
        "# Define the parameter values to be passed in the request\n",
        "payload = {\n",
        "     \"Date\": \"2025-04-20\",\n",
        "     \"n_days\": 20,\n",
        "     \"range\": \"1 month\",\n",
        "     \"stock\": \"AAPL (AAPL)\"\n",
        "}"
      ],
      "metadata": {
        "id": "oeosyjkkPxC9"
      },
      "id": "oeosyjkkPxC9",
      "execution_count": 13,
      "outputs": []
    },
    {
      "cell_type": "code",
      "source": [
        "# Make a POST request to the FastAPI server\n",
        "resp = requests.post(public_url.public_url + \"/checkDrift\", json=payload)\n",
        "\n",
        "# Printing the status code\n",
        "print(f\"Status: {resp.status_code}\")\n",
        "\n",
        "# Printing the headers\n",
        "print(f\"Header Data: {resp.headers}\")\n",
        "\n",
        "# Print the content of the response (the actual prediction)\n",
        "print(f\"Response Received: {resp.text}\")"
      ],
      "metadata": {
        "colab": {
          "base_uri": "https://localhost:8080/"
        },
        "id": "kYTCrzpLPzIA",
        "outputId": "26616883-5d2d-411d-d8b4-847b4f0282f6"
      },
      "id": "kYTCrzpLPzIA",
      "execution_count": 18,
      "outputs": [
        {
          "output_type": "stream",
          "name": "stderr",
          "text": [
            "WARNING:alibi_detect.saving.saving:Directory datadrift does not exist and is now created.\n",
            "WARNING:alibi_detect.saving._tensorflow.loading:No model found in datadrift/model, setting `model` to `None`.\n"
          ]
        },
        {
          "output_type": "stream",
          "name": "stdout",
          "text": [
            "INFO:     34.32.182.106:0 - \"POST /checkDrift HTTP/1.1\" 200 OK\n",
            "Status: 200\n",
            "Header Data: {'Content-Length': '3348', 'Content-Type': 'application/json', 'Date': 'Sat, 19 Apr 2025 22:59:36 GMT', 'Ngrok-Agent-Ips': '34.32.182.106', 'Server': 'uvicorn'}\n",
            "Response Received: {\"overall_drift_status\":1,\"threshold_value\":0.01,\"feature_summary\":[{\"Feature Name\":\"Close\",\"Statistical Test\":\"K-S\",\"Statistical Value\":0.1580168753862381,\"P-Value\":\"0.210\",\"Drift Detected\":\"No\"},{\"Feature Name\":\"Volume\",\"Statistical Test\":\"K-S\",\"Statistical Value\":0.222995787858963,\"P-Value\":\"0.023\",\"Drift Detected\":\"Yes\"},{\"Feature Name\":\"SMA_10\",\"Statistical Test\":\"K-S\",\"Statistical Value\":0.25654008984565735,\"P-Value\":\"0.006\",\"Drift Detected\":\"Yes\"},{\"Feature Name\":\"RSI\",\"Statistical Test\":\"K-S\",\"Statistical Value\":0.48881855607032776,\"P-Value\":\"0.000\",\"Drift Detected\":\"Yes\"},{\"Feature Name\":\"MACD\",\"Statistical Test\":\"K-S\",\"Statistical Value\":0.13502109050750732,\"P-Value\":\"0.379\",\"Drift Detected\":\"No\"}],\"numeric_features_train\":[{\"Close\":241.94400024414062,\"Volume\":40856000,\"SMA_10\":250.23687438964845,\"RSI\":44.03794506192842,\"MACD\":-2.0384088831582723},{\"Close\":242.43344116210938,\"Volume\":37628900,\"SMA_10\":248.98125305175782,\"RSI\":44.9265268872424,\"MACD\":-2.0710270631111856},{\"Close\":236.58987426757812,\"Volume\":61710900,\"SMA_10\":246.84859619140624,\"RSI\":37.309497929714915,\"MACD\":-2.3864963555090735},{\"Close\":234.14256286621094,\"Volume\":49630700,\"SMA_10\":244.3893020629883,\"RSI\":34.659185860207145,\"MACD\":-2.6405334246206107},{\"Close\":233.02378845214844,\"Volume\":39435300,\"SMA_10\":242.16075134277344,\"RSI\":33.48805478050764,\"MACD\":-2.7519464867522037},{\"Close\":237.60874938964844,\"Volume\":39832000,\"SMA_10\":240.7293243408203,\"RSI\":42.11973699786041,\"MACD\":-2.397853819700856},{\"Close\":228.00930786132812,\"Volume\":71759100,\"SMA_10\":238.51575775146483,\"RSI\":32.58500319700396,\"MACD\":-2.6703035367865597},{\"Close\":229.7274169921875,\"Volume\":68488300,\"SMA_10\":237.13027954101562,\"RSI\":35.40352378216885,\"MACD\":-2.5928298126207983},{\"Close\":222.39547729492188,\"Volume\":98070400,\"SMA_10\":235.06055450439453,\"RSI\":29.69745780874561,\"MACD\":-2.871735545290419},{\"Close\":223.58416748046875,\"Volume\":64126500,\"SMA_10\":232.9458786010742,\"RSI\":31.621628208809,\"MACD\":-2.8090803583344943}],\"numeric_feature_predict\":[{\"Close\":223.41436767578125,\"Volume\":60234800,\"SMA_10\":231.0929153442383,\"RSI\":31.489046016455532,\"MACD\":-2.6159190876661653},{\"Close\":222.5353240966797,\"Volume\":54697900,\"SMA_10\":229.1031036376953,\"RSI\":30.769790161996198,\"MACD\":-2.390385037055723},{\"Close\":229.6075439453125,\"Volume\":94863400,\"SMA_10\":228.40487060546874,\"RSI\":42.20719966405789,\"MACD\":-1.6435039953714075},{\"Close\":237.99832153320312,\"Volume\":75707600,\"SMA_10\":228.79044647216796,\"RSI\":52.28025609947213,\"MACD\":-0.5211123456388265},{\"Close\":239.0971221923828,\"Volume\":45486100,\"SMA_10\":229.3977798461914,\"RSI\":53.42508602977486,\"MACD\":0.3136352416690107},{\"Close\":237.3290557861328,\"Volume\":55658300,\"SMA_10\":229.36981048583985,\"RSI\":51.29271439041954,\"MACD\":0.7406626586096818},{\"Close\":235.74081420898438,\"Volume\":101075100,\"SMA_10\":230.14296112060546,\"RSI\":49.38583704847413,\"MACD\":0.8995413692612511},{\"Close\":227.75958251953125,\"Volume\":73063300,\"SMA_10\":229.94617767333983,\"RSI\":41.11411293028469,\"MACD\":0.4719850506517167},{\"Close\":232.54432678222656,\"Volume\":45067300,\"SMA_10\":230.9610626220703,\"RSI\":46.8603770771083,\"MACD\":0.5128948377760532},{\"Close\":232.21469116210938,\"Volume\":39620300,\"SMA_10\":231.82411499023436,\"RSI\":46.52354976747858,\"MACD\":0.5177287785560516}],\"num_features\":[\"Close\",\"Volume\",\"SMA_10\",\"RSI\",\"MACD\"],\"catg_features\":[]}\n"
          ]
        }
      ]
    }
  ],
  "metadata": {
    "kernelspec": {
      "display_name": "Python 3 (ipykernel)",
      "language": "python",
      "name": "python3"
    },
    "language_info": {
      "codemirror_mode": {
        "name": "ipython",
        "version": 3
      },
      "file_extension": ".py",
      "mimetype": "text/x-python",
      "name": "python",
      "nbconvert_exporter": "python",
      "pygments_lexer": "ipython3",
      "version": "3.11.7"
    },
    "colab": {
      "provenance": []
    }
  },
  "nbformat": 4,
  "nbformat_minor": 5
}