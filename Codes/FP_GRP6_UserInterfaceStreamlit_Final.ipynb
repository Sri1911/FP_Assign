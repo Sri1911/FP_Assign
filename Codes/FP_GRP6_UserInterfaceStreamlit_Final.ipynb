{
  "cells": [
    {
      "cell_type": "markdown",
      "id": "b66acefe-ed7e-4f90-ba60-c855b7d56e30",
      "metadata": {
        "id": "b66acefe-ed7e-4f90-ba60-c855b7d56e30"
      },
      "source": [
        "## **FOUNDATION PROJECT - GROUP ASSIGNMENT** ##\n",
        "\n",
        "> **Use Case ::** Predicting Stock Movement - **\"Stock Market Copilot\"**\n",
        "\n",
        "> **Dataset Source ::** Yahoo Finance - https://finance.yahoo.com/quote/TSLA/history/?filter=history\n",
        "\n",
        "> **Group No. ::** 6"
      ]
    },
    {
      "cell_type": "markdown",
      "source": [
        "## **USER INTERFACE - STREAMLIT**"
      ],
      "metadata": {
        "id": "HBkX2GMIDL8q"
      },
      "id": "HBkX2GMIDL8q"
    },
    {
      "cell_type": "markdown",
      "source": [
        "**Overall Steps -**\n",
        "\n",
        "> 1. **Installation:** Install necessary libraries like **`streamlit, altair, uvicorn, pyngrok, scikit-learn`**.\n",
        "> 2. **Import Libraries:** Import required libraries for data manipulation, visualization, API interaction, and Streamlit app development.\n",
        "> 3. **`Define Streamlit App:`**\n",
        ">> - Set up the Streamlit app layout, title, and styling.\n",
        ">> - Create user input elements like select boxes, date input, and buttons.\n",
        ">> - Define logic for handling user inputs and making predictions using an external API.\n",
        ">> - Display results, including plots and data tables.\n",
        "> 4. **Run Streamlit App:**\n",
        ">> - Start the Streamlit server in a separate thread.\n",
        ">> - Use ngrok to expose the app publicly."
      ],
      "metadata": {
        "id": "B1CsiypQfbRf"
      },
      "id": "B1CsiypQfbRf"
    },
    {
      "cell_type": "markdown",
      "source": [
        "**Functions Used -**\n",
        "> **Inbuilt Functions ::**\n",
        "- **`pip install`**: Installs Python packages.\n",
        "- **`os.system`**: Executes a system command.\n",
        "- **`st.set_page_config`**: Configures the Streamlit page layout.\n",
        "- **`st.title`**: Sets the title of the Streamlit app.\n",
        "- **`st.markdown`**: Displays Markdown text in Streamlit.\n",
        "- **`st.radio`**: Creates a radio button group for user selection.\n",
        "- **`st.selectbox`**: Creates a dropdown menu for user selection.\n",
        "- **`st.date_input`**: Creates a date picker for user input.\n",
        "- **`st.button`**: Creates a button that triggers an action when clicked.\n",
        "- **`st.spinner`**: Displays a spinner while an action is being performed.\n",
        "- **`requests.post`**: Sends a POST request to an API endpoint.\n",
        "- **`pd.DataFrame`**: Creates a Pandas DataFrame.\n",
        "- **`pd.to_datetime`**: Converts a column to datetime objects.\n",
        "- **`go.Figure`**: Creates a Plotly figure.\n",
        "- **`go.Scatter`**: Creates a scatter plot trace in Plotly.\n",
        "- **`fig.update_layout`**: Updates the layout of a Plotly figure.\n",
        "- **`st.plotly_chart`**: Displays a Plotly chart in Streamlit.\n",
        "- **`st.expander`**: Creates an expandable section in Streamlit.\n",
        "- **`st.dataframe`**: Displays a Pandas DataFrame in Streamlit.\n",
        "- **`st.download_button`**: Creates a button for downloading data.\n",
        "- **`plt.subplots`**: Creates a Matplotlib figure and axes.\n",
        "- **`sn.kdeplot`**: Creates a kernel density estimation plot using Seaborn.\n",
        "- **`st.pyplot`**: Displays a Matplotlib plot in Streamlit.\n",
        "- **`ngrok.set_auth_token`**: Sets the authentication token for ngrok.\n",
        "- **`ngrok.connect`**: Creates a public URL for a local port using ngrok.\n",
        "- **`print`**: Prints output to the console.\n",
        "\n",
        "> **User-Defined Function ::**\n",
        ">\n",
        "> - **`create_streamlit_app`**: This function contains the entire logic for building and running the Streamlit app. It defines the layout, user inputs, prediction logic, and display of results."
      ],
      "metadata": {
        "id": "21sq09mtf3qn"
      },
      "id": "21sq09mtf3qn"
    },
    {
      "cell_type": "code",
      "execution_count": 1,
      "id": "8de302bc-4ad6-448b-82ed-8de079c0893d",
      "metadata": {
        "colab": {
          "base_uri": "https://localhost:8080/"
        },
        "id": "8de302bc-4ad6-448b-82ed-8de079c0893d",
        "outputId": "1b5e2d25-877e-448a-db19-c8d1b9ad777c"
      },
      "outputs": [
        {
          "output_type": "stream",
          "name": "stdout",
          "text": [
            "Collecting streamlit\n",
            "  Downloading streamlit-1.44.1-py3-none-any.whl.metadata (8.9 kB)\n",
            "Requirement already satisfied: altair in /usr/local/lib/python3.11/dist-packages (5.5.0)\n",
            "Collecting uvicorn\n",
            "  Downloading uvicorn-0.34.2-py3-none-any.whl.metadata (6.5 kB)\n",
            "Collecting pyngrok\n",
            "  Downloading pyngrok-7.2.4-py3-none-any.whl.metadata (8.7 kB)\n",
            "Requirement already satisfied: blinker<2,>=1.0.0 in /usr/local/lib/python3.11/dist-packages (from streamlit) (1.9.0)\n",
            "Requirement already satisfied: cachetools<6,>=4.0 in /usr/local/lib/python3.11/dist-packages (from streamlit) (5.5.2)\n",
            "Requirement already satisfied: click<9,>=7.0 in /usr/local/lib/python3.11/dist-packages (from streamlit) (8.1.8)\n",
            "Requirement already satisfied: numpy<3,>=1.23 in /usr/local/lib/python3.11/dist-packages (from streamlit) (2.0.2)\n",
            "Requirement already satisfied: packaging<25,>=20 in /usr/local/lib/python3.11/dist-packages (from streamlit) (24.2)\n",
            "Requirement already satisfied: pandas<3,>=1.4.0 in /usr/local/lib/python3.11/dist-packages (from streamlit) (2.2.2)\n",
            "Requirement already satisfied: pillow<12,>=7.1.0 in /usr/local/lib/python3.11/dist-packages (from streamlit) (11.1.0)\n",
            "Requirement already satisfied: protobuf<6,>=3.20 in /usr/local/lib/python3.11/dist-packages (from streamlit) (5.29.4)\n",
            "Requirement already satisfied: pyarrow>=7.0 in /usr/local/lib/python3.11/dist-packages (from streamlit) (18.1.0)\n",
            "Requirement already satisfied: requests<3,>=2.27 in /usr/local/lib/python3.11/dist-packages (from streamlit) (2.32.3)\n",
            "Requirement already satisfied: tenacity<10,>=8.1.0 in /usr/local/lib/python3.11/dist-packages (from streamlit) (9.1.2)\n",
            "Requirement already satisfied: toml<2,>=0.10.1 in /usr/local/lib/python3.11/dist-packages (from streamlit) (0.10.2)\n",
            "Requirement already satisfied: typing-extensions<5,>=4.4.0 in /usr/local/lib/python3.11/dist-packages (from streamlit) (4.13.2)\n",
            "Collecting watchdog<7,>=2.1.5 (from streamlit)\n",
            "  Downloading watchdog-6.0.0-py3-none-manylinux2014_x86_64.whl.metadata (44 kB)\n",
            "\u001b[2K     \u001b[90m━━━━━━━━━━━━━━━━━━━━━━━━━━━━━━━━━━━━━━━━\u001b[0m \u001b[32m44.3/44.3 kB\u001b[0m \u001b[31m1.8 MB/s\u001b[0m eta \u001b[36m0:00:00\u001b[0m\n",
            "\u001b[?25hRequirement already satisfied: gitpython!=3.1.19,<4,>=3.0.7 in /usr/local/lib/python3.11/dist-packages (from streamlit) (3.1.44)\n",
            "Collecting pydeck<1,>=0.8.0b4 (from streamlit)\n",
            "  Downloading pydeck-0.9.1-py2.py3-none-any.whl.metadata (4.1 kB)\n",
            "Requirement already satisfied: tornado<7,>=6.0.3 in /usr/local/lib/python3.11/dist-packages (from streamlit) (6.4.2)\n",
            "Requirement already satisfied: jinja2 in /usr/local/lib/python3.11/dist-packages (from altair) (3.1.6)\n",
            "Requirement already satisfied: jsonschema>=3.0 in /usr/local/lib/python3.11/dist-packages (from altair) (4.23.0)\n",
            "Requirement already satisfied: narwhals>=1.14.2 in /usr/local/lib/python3.11/dist-packages (from altair) (1.35.0)\n",
            "Requirement already satisfied: h11>=0.8 in /usr/local/lib/python3.11/dist-packages (from uvicorn) (0.14.0)\n",
            "Requirement already satisfied: PyYAML>=5.1 in /usr/local/lib/python3.11/dist-packages (from pyngrok) (6.0.2)\n",
            "Requirement already satisfied: gitdb<5,>=4.0.1 in /usr/local/lib/python3.11/dist-packages (from gitpython!=3.1.19,<4,>=3.0.7->streamlit) (4.0.12)\n",
            "Requirement already satisfied: attrs>=22.2.0 in /usr/local/lib/python3.11/dist-packages (from jsonschema>=3.0->altair) (25.3.0)\n",
            "Requirement already satisfied: jsonschema-specifications>=2023.03.6 in /usr/local/lib/python3.11/dist-packages (from jsonschema>=3.0->altair) (2024.10.1)\n",
            "Requirement already satisfied: referencing>=0.28.4 in /usr/local/lib/python3.11/dist-packages (from jsonschema>=3.0->altair) (0.36.2)\n",
            "Requirement already satisfied: rpds-py>=0.7.1 in /usr/local/lib/python3.11/dist-packages (from jsonschema>=3.0->altair) (0.24.0)\n",
            "Requirement already satisfied: python-dateutil>=2.8.2 in /usr/local/lib/python3.11/dist-packages (from pandas<3,>=1.4.0->streamlit) (2.8.2)\n",
            "Requirement already satisfied: pytz>=2020.1 in /usr/local/lib/python3.11/dist-packages (from pandas<3,>=1.4.0->streamlit) (2025.2)\n",
            "Requirement already satisfied: tzdata>=2022.7 in /usr/local/lib/python3.11/dist-packages (from pandas<3,>=1.4.0->streamlit) (2025.2)\n",
            "Requirement already satisfied: MarkupSafe>=2.0 in /usr/local/lib/python3.11/dist-packages (from jinja2->altair) (3.0.2)\n",
            "Requirement already satisfied: charset-normalizer<4,>=2 in /usr/local/lib/python3.11/dist-packages (from requests<3,>=2.27->streamlit) (3.4.1)\n",
            "Requirement already satisfied: idna<4,>=2.5 in /usr/local/lib/python3.11/dist-packages (from requests<3,>=2.27->streamlit) (3.10)\n",
            "Requirement already satisfied: urllib3<3,>=1.21.1 in /usr/local/lib/python3.11/dist-packages (from requests<3,>=2.27->streamlit) (2.3.0)\n",
            "Requirement already satisfied: certifi>=2017.4.17 in /usr/local/lib/python3.11/dist-packages (from requests<3,>=2.27->streamlit) (2025.1.31)\n",
            "Requirement already satisfied: smmap<6,>=3.0.1 in /usr/local/lib/python3.11/dist-packages (from gitdb<5,>=4.0.1->gitpython!=3.1.19,<4,>=3.0.7->streamlit) (5.0.2)\n",
            "Requirement already satisfied: six>=1.5 in /usr/local/lib/python3.11/dist-packages (from python-dateutil>=2.8.2->pandas<3,>=1.4.0->streamlit) (1.17.0)\n",
            "Downloading streamlit-1.44.1-py3-none-any.whl (9.8 MB)\n",
            "\u001b[2K   \u001b[90m━━━━━━━━━━━━━━━━━━━━━━━━━━━━━━━━━━━━━━━━\u001b[0m \u001b[32m9.8/9.8 MB\u001b[0m \u001b[31m68.7 MB/s\u001b[0m eta \u001b[36m0:00:00\u001b[0m\n",
            "\u001b[?25hDownloading uvicorn-0.34.2-py3-none-any.whl (62 kB)\n",
            "\u001b[2K   \u001b[90m━━━━━━━━━━━━━━━━━━━━━━━━━━━━━━━━━━━━━━━━\u001b[0m \u001b[32m62.5/62.5 kB\u001b[0m \u001b[31m4.0 MB/s\u001b[0m eta \u001b[36m0:00:00\u001b[0m\n",
            "\u001b[?25hDownloading pyngrok-7.2.4-py3-none-any.whl (23 kB)\n",
            "Downloading pydeck-0.9.1-py2.py3-none-any.whl (6.9 MB)\n",
            "\u001b[2K   \u001b[90m━━━━━━━━━━━━━━━━━━━━━━━━━━━━━━━━━━━━━━━━\u001b[0m \u001b[32m6.9/6.9 MB\u001b[0m \u001b[31m102.2 MB/s\u001b[0m eta \u001b[36m0:00:00\u001b[0m\n",
            "\u001b[?25hDownloading watchdog-6.0.0-py3-none-manylinux2014_x86_64.whl (79 kB)\n",
            "\u001b[2K   \u001b[90m━━━━━━━━━━━━━━━━━━━━━━━━━━━━━━━━━━━━━━━━\u001b[0m \u001b[32m79.1/79.1 kB\u001b[0m \u001b[31m5.5 MB/s\u001b[0m eta \u001b[36m0:00:00\u001b[0m\n",
            "\u001b[?25hInstalling collected packages: watchdog, uvicorn, pyngrok, pydeck, streamlit\n",
            "Successfully installed pydeck-0.9.1 pyngrok-7.2.4 streamlit-1.44.1 uvicorn-0.34.2 watchdog-6.0.0\n"
          ]
        }
      ],
      "source": [
        "pip install streamlit altair uvicorn pyngrok --no-warn-script-location"
      ]
    },
    {
      "cell_type": "code",
      "source": [
        "# Importing necessary libraries\n",
        "from multiprocessing import Process\n",
        "from threading import Thread\n",
        "from pyngrok import ngrok\n",
        "import streamlit as st\n",
        "import pandas as pd\n",
        "import numpy as np\n",
        "from joblib import load\n",
        "import os\n",
        "import plotly.graph_objects as go\n",
        "\n",
        "import seaborn as sn\n",
        "import matplotlib.pyplot as plt\n",
        "\n",
        "# Google Colab Notbook related imports\n",
        "from google.colab import userdata"
      ],
      "metadata": {
        "id": "sQNuMEricPQE"
      },
      "id": "sQNuMEricPQE",
      "execution_count": 2,
      "outputs": []
    },
    {
      "cell_type": "markdown",
      "id": "464d516d-1847-4937-8d20-fc531da15dc0",
      "metadata": {
        "id": "464d516d-1847-4937-8d20-fc531da15dc0"
      },
      "source": [
        "### **User Interface - Streamlit**\n",
        "> In this stage we will creating a User interface for user to select the input values and display the predicted value through the best performance model deployed. The UI app will use the FastAPI service hosted at localhost:8501 to post the post the request to model and fetch the value.\n",
        "\n",
        "> **Streamlit -**\n",
        ">> Streamlit is a free and open-source framework to rapidly build and share web apps without extensive web development knowledge."
      ]
    },
    {
      "cell_type": "markdown",
      "id": "cdd16abb-3f7f-4d17-9851-1f92d523bbe3",
      "metadata": {
        "id": "cdd16abb-3f7f-4d17-9851-1f92d523bbe3"
      },
      "source": [
        "#### **Creating the APP**\n",
        "> We will be defining the app layout i.e., the fields that are to be displayed to the user over the screen and the type of field to be provided (e.g., dropdown for stratified data or text field etc.) along the set of values acceptable in each field (e.g, range of values for free text or definite values to be displayed in dropdown)."
      ]
    },
    {
      "cell_type": "markdown",
      "source": [
        "**Steps Performed -**\n",
        "\n",
        "**`create_streamlit_app:`**\n",
        ">\n",
        "> 1. **Setup:** Sets up the page configuration, title, and custom styling for the Streamlit app.\n",
        "> 2. User Inputs: Defines input elements for stock selection, prediction date, and prediction period using **`st.selectbox`** and **`st.date_input`**.\n",
        "> 3. **Profile Selection:** Allows the user to choose between \"Stock Market Analyst\" and \"Developer\" profiles using **`st.radio`**.\n",
        "> 4. **Prediction Logic (Analyst Profile):**\n",
        ">> - Sends a POST request to an API endpoint with user inputs to generate predictions.\n",
        ">> - Processes the API response and creates visualizations using Plotly.\n",
        ">> - Displays the predictions and historical data using **`st.plotly_chart`** and **`st.dataframe`**.\n",
        ">> - Provides options to export predictions as a CSV file.\n",
        "> 5. **Drift Check (Developer Profile):**\n",
        ">> - Sends a POST request to a different API endpoint for drift checking.\n",
        ">> - Processes the response and displays the drift status and feature-wise summary.\n",
        ">> - Generates KDE plots for numeric features using Seaborn and Matplotlib.\n",
        "> 6. **Footer:** Displays a disclaimer and data source information.\n",
        ">\n",
        ">The web application is hosted at a localserver started at endpoint 0.0.0.0:8501 using the uvicorn module. The streamlit module automatically converts the outline defined in app.py to html content with a user friendly interface.\n",
        ">\n",
        "> When user enters the details and clicks Predict the request is received by the app and posted to the secure API endpoint exposed over public URL.\n",
        "\n",
        "**Note - Pls ensure the \"ngrokPublicURL.txt\" file to be fetched and uploaded from Deployment Code Notebook and \"ngrokPublicURL2.txt\" from Monitoring Code Notebook to the local storage of this notebook.**\n",
        "\n",
        "**Using NGROK::**\n",
        "\n",
        "- We use ngrok to create a secure endpoint to which an external user can access the web application hosted. Ngrok creates a secure tunnel between the public exposed endpoint and the local server (0.0.0.0:8501) end point on which the service is running.\n",
        "- Once the enters the details on the page and hits the Predict button,traffic/request hits the public endpoint, ngrok forwards the traffic over the secure channel thereby abstracting the internal working endpoint from outside world.\n"
      ],
      "metadata": {
        "id": "XQ7Tp7dhwgd1"
      },
      "id": "XQ7Tp7dhwgd1"
    },
    {
      "cell_type": "code",
      "execution_count": 3,
      "id": "e6939b49-0839-4619-a07d-34c5b0780312",
      "metadata": {
        "colab": {
          "base_uri": "https://localhost:8080/"
        },
        "id": "e6939b49-0839-4619-a07d-34c5b0780312",
        "outputId": "c88478e4-3858-4acb-c72a-ce0a7ec336b8"
      },
      "outputs": [
        {
          "output_type": "stream",
          "name": "stdout",
          "text": [
            "Collecting scikit-learn==1.3.2\n",
            "  Downloading scikit_learn-1.3.2-cp311-cp311-manylinux_2_17_x86_64.manylinux2014_x86_64.whl.metadata (11 kB)\n",
            "Collecting numpy<2.0,>=1.17.3 (from scikit-learn==1.3.2)\n",
            "  Downloading numpy-1.26.4-cp311-cp311-manylinux_2_17_x86_64.manylinux2014_x86_64.whl.metadata (61 kB)\n",
            "\u001b[2K     \u001b[90m━━━━━━━━━━━━━━━━━━━━━━━━━━━━━━━━━━━━━━━━\u001b[0m \u001b[32m61.0/61.0 kB\u001b[0m \u001b[31m2.1 MB/s\u001b[0m eta \u001b[36m0:00:00\u001b[0m\n",
            "\u001b[?25hRequirement already satisfied: scipy>=1.5.0 in /usr/local/lib/python3.11/dist-packages (from scikit-learn==1.3.2) (1.14.1)\n",
            "Requirement already satisfied: joblib>=1.1.1 in /usr/local/lib/python3.11/dist-packages (from scikit-learn==1.3.2) (1.4.2)\n",
            "Requirement already satisfied: threadpoolctl>=2.0.0 in /usr/local/lib/python3.11/dist-packages (from scikit-learn==1.3.2) (3.6.0)\n",
            "Downloading scikit_learn-1.3.2-cp311-cp311-manylinux_2_17_x86_64.manylinux2014_x86_64.whl (10.9 MB)\n",
            "\u001b[2K   \u001b[90m━━━━━━━━━━━━━━━━━━━━━━━━━━━━━━━━━━━━━━━━\u001b[0m \u001b[32m10.9/10.9 MB\u001b[0m \u001b[31m60.1 MB/s\u001b[0m eta \u001b[36m0:00:00\u001b[0m\n",
            "\u001b[?25hDownloading numpy-1.26.4-cp311-cp311-manylinux_2_17_x86_64.manylinux2014_x86_64.whl (18.3 MB)\n",
            "\u001b[2K   \u001b[90m━━━━━━━━━━━━━━━━━━━━━━━━━━━━━━━━━━━━━━━━\u001b[0m \u001b[32m18.3/18.3 MB\u001b[0m \u001b[31m35.5 MB/s\u001b[0m eta \u001b[36m0:00:00\u001b[0m\n",
            "\u001b[?25hInstalling collected packages: numpy, scikit-learn\n",
            "  Attempting uninstall: numpy\n",
            "    Found existing installation: numpy 2.0.2\n",
            "    Uninstalling numpy-2.0.2:\n",
            "      Successfully uninstalled numpy-2.0.2\n",
            "  Attempting uninstall: scikit-learn\n",
            "    Found existing installation: scikit-learn 1.6.1\n",
            "    Uninstalling scikit-learn-1.6.1:\n",
            "      Successfully uninstalled scikit-learn-1.6.1\n",
            "\u001b[31mERROR: pip's dependency resolver does not currently take into account all the packages that are installed. This behaviour is the source of the following dependency conflicts.\n",
            "thinc 8.3.6 requires numpy<3.0.0,>=2.0.0, but you have numpy 1.26.4 which is incompatible.\u001b[0m\u001b[31m\n",
            "\u001b[0mSuccessfully installed numpy-1.26.4 scikit-learn-1.3.2\n"
          ]
        }
      ],
      "source": [
        "pip install scikit-learn==1.3.2"
      ]
    },
    {
      "cell_type": "code",
      "source": [
        "%%writefile app.py\n",
        "\n",
        "from pyngrok import ngrok\n",
        "import streamlit as st\n",
        "import pandas as pd\n",
        "import numpy as np\n",
        "import requests\n",
        "from datetime import datetime, timedelta\n",
        "import matplotlib.pyplot as plt\n",
        "import plotly.graph_objects as go\n",
        "import seaborn as sn\n",
        "\n",
        "# Load FastAPI public URLs\n",
        "with open(\"ngrokPublicURL.txt\", \"r\") as f:\n",
        "    endPointUrl = f.read().strip()\n",
        "\n",
        "with open(\"ngrokPublicURL2.txt\", \"r\") as g:\n",
        "    endPointUrl2 = g.read().strip()\n",
        "\n",
        "def create_streamlit_app():\n",
        "    st.set_page_config(page_title=\"Stock Market Copilot\", layout=\"wide\")\n",
        "    st.title(\"Stock Market Copilot\")\n",
        "\n",
        "    # Custom style\n",
        "    st.markdown(\"\"\"\n",
        "    <style>\n",
        "    .stAlert { padding: 20px; }\n",
        "    .st-b7 { color: black !important; }\n",
        "    .st-cg, .stSelectbox div[data-baseweb=\"select\"],\n",
        "    div[data-baseweb=\"select\"] > div,\n",
        "    div[data-baseweb=\"menu\"],\n",
        "    div[data-baseweb=\"menu\"] > div {\n",
        "        background-color: white !important;\n",
        "        color: black !important;\n",
        "        border-radius: 5px;\n",
        "        padding: 1px;\n",
        "        font-size: 16px;\n",
        "    }\n",
        "    div[data-baseweb=\"option\"]:hover {\n",
        "        background-color: #f0f0f0 !important;\n",
        "        color: black !important;\n",
        "    }\n",
        "    </style>\n",
        "    \"\"\", unsafe_allow_html=True)\n",
        "\n",
        "    # Profile toggle\n",
        "    profile = st.radio(\"Profile\", [\"Stock Market Analyst\", \"Developer\"], horizontal=True)\n",
        "\n",
        "    # Common Inputs\n",
        "    stock_name = st.selectbox(\n",
        "        \"Select Stock\",\n",
        "        [\"APPLE (AAPL)\", \"Tesla, Inc. (TSLA)\", \"Berkshire Hathaway Inc. (BRK-B)\"],\n",
        "        index=0\n",
        "    )\n",
        "    prediction_date = st.date_input(\"Prediction Start Date\", value=datetime.now())\n",
        "    prediction_period = st.selectbox(\"Select Prediction Period\", [\"2 weeks\", \"1 month\", \"3 months\"], index=0)\n",
        "    n_days = 10 if prediction_period == \"2 weeks\" else 20 if prediction_period == \"1 month\" else 60\n",
        "\n",
        "    # Stock Analyst Mode – Predictions\n",
        "    if profile == \"Stock Market Analyst\":\n",
        "        if st.button(\"Generate Predictions\"):\n",
        "            with st.spinner(\"Generating predictions...\"):\n",
        "                try:\n",
        "                    response = requests.post(\n",
        "                        endPointUrl + \"/predict\",\n",
        "                        json={\n",
        "                            \"Date\": prediction_date.strftime('%Y-%m-%d'),\n",
        "                            \"n_days\": n_days,\n",
        "                            \"range\": prediction_period,\n",
        "                            \"stock\": stock_name\n",
        "                        },\n",
        "                        headers={\"Content-Type\": \"application/json\"},\n",
        "                        timeout=30\n",
        "                    )\n",
        "\n",
        "                    if response.status_code != 200:\n",
        "                        raise Exception(f\"API Error: {response.text}\")\n",
        "\n",
        "                    results = response.json()\n",
        "                    predictions = pd.DataFrame(results['predictions'])\n",
        "                    validation = pd.DataFrame(results['validation'])\n",
        "\n",
        "                    predictions['Date'] = pd.to_datetime(predictions['Date'])\n",
        "                    predictions['Day'] = predictions['Date'].dt.day_name()\n",
        "                    predictions['Week'] = predictions['Date'].dt.isocalendar().week\n",
        "\n",
        "                    if not validation.empty:\n",
        "                        validation['Date'] = pd.to_datetime(validation['Date'])\n",
        "\n",
        "                    # Plotting logic\n",
        "                    fig = go.Figure()\n",
        "\n",
        "                    if not validation.empty:\n",
        "                        fig.add_trace(go.Scatter(\n",
        "                            x=validation['Date'],\n",
        "                            y=validation['Close'],\n",
        "                            name='Historical Data',\n",
        "                            line=dict(color='blue', width=2),\n",
        "                            hovertemplate='Date: %{x|%Y-%m-%d}<br>Value: %{y:.2f}<extra></extra>'\n",
        "                        ))\n",
        "\n",
        "                    predictions['Change'] = predictions['Predicted'].diff()\n",
        "                    predictions['Direction'] = predictions['Change'].apply(lambda x: 'green' if x > 0 else ('red' if x < 0 else 'gray'))\n",
        "                    predictions['Prev_Date'] = predictions['Date'].shift(1).dt.strftime('%Y-%m-%d')\n",
        "                    predictions['Prev_Day'] = predictions['Day'].shift(1)\n",
        "                    predictions['Prev_Week'] = predictions['Week'].shift(1)\n",
        "                    predictions['Prev_Value'] = predictions['Predicted'].shift(1)\n",
        "\n",
        "                    # Add only one legend entry for predicted\n",
        "                    fig.add_trace(go.Scatter(\n",
        "                        x=[predictions['Date'].iloc[1]],\n",
        "                        y=[predictions['Predicted'].iloc[1]],\n",
        "                        name=\"Predicted Values\",\n",
        "                        line=dict(color='green'),\n",
        "                        mode='lines',\n",
        "                        showlegend=True,\n",
        "                        visible='legendonly'\n",
        "                    ))\n",
        "\n",
        "                    for i in range(1, len(predictions)):\n",
        "                        fig.add_trace(go.Scatter(\n",
        "                            x=predictions['Date'].iloc[i-1:i+1],\n",
        "                            y=predictions['Predicted'].iloc[i-1:i+1],\n",
        "                            line=dict(\n",
        "                                color=predictions['Direction'].iloc[i],\n",
        "                                width=2\n",
        "                            ),\n",
        "                            mode='lines+markers',\n",
        "                            marker=dict(size=8, color=predictions['Direction'].iloc[i-1]),\n",
        "                            showlegend=False,\n",
        "                            customdata=np.array([[  # tooltip\n",
        "                                predictions['Day'].iloc[i],\n",
        "                                int(predictions['Week'].iloc[i]),\n",
        "                                predictions['Prev_Date'].iloc[i-1],\n",
        "                                predictions['Prev_Day'].iloc[i],\n",
        "                                int(predictions['Prev_Week'].iloc[i]),\n",
        "                                float(predictions['Prev_Value'].iloc[i-1])\n",
        "                            ]]),\n",
        "                            hovertemplate=(\n",
        "                                '<b>Current Day</b><br>'\n",
        "                                'Date: %{x|%Y-%m-%d}<br>'\n",
        "                                'Day: %{customdata[0]}<br>'\n",
        "                                'Week: %{customdata[1]}<br>'\n",
        "                                'Value: %{y:.2f}<br><br>'\n",
        "                                '<b>Previous Day</b><br>'\n",
        "                                'Date: %{customdata[2]}<br>'\n",
        "                                'Day: %{customdata[3]}<br>'\n",
        "                                'Week: %{customdata[4]}<br>'\n",
        "                                'Value: %{customdata[5]:.2f}'\n",
        "                                '<extra></extra>'\n",
        "                            )\n",
        "                        ))\n",
        "\n",
        "                    fig.update_layout(\n",
        "                        title='Stock Price Prediction with Directional Trends',\n",
        "                        xaxis_title='Date',\n",
        "                        yaxis_title='Price ($)',\n",
        "                        hovermode='closest',\n",
        "                        xaxis=dict(\n",
        "                            range=[predictions['Date'].min() - timedelta(days=3),\n",
        "                                   predictions['Date'].max() + timedelta(days=3)]\n",
        "                        ),\n",
        "                        legend=dict(orientation=\"h\", yanchor=\"bottom\", y=1.02, xanchor=\"right\", x=1)\n",
        "                    )\n",
        "                    st.plotly_chart(fig, use_container_width=True)\n",
        "\n",
        "                    with st.expander(\"View Detailed Prediction Data\"):\n",
        "                        def style_predictions(row):\n",
        "                            if row.name == 0:\n",
        "                                return [''] * len(row)\n",
        "                            return ['background-color: lightgreen' if row['Predicted'] > predictions.at[row.name-1, 'Predicted']\n",
        "                                    else 'background-color: lightcoral' for _ in row]\n",
        "                        st.dataframe(predictions.style.apply(style_predictions, axis=1))\n",
        "\n",
        "                        if not predictions.empty:\n",
        "                            ticker = stock_name.split('(')[-1].replace(')', '')\n",
        "                            timestamp = datetime.now().strftime(\"%Y%m%d_%H%M%S\")\n",
        "                            filename = f\"{ticker}_{timestamp}.csv\"\n",
        "\n",
        "                            predictions_export = predictions[['Date', 'Predicted']].copy()\n",
        "                            predictions_export['Day'] = predictions_export['Date'].dt.day_name()\n",
        "\n",
        "                            csv_data = predictions_export.to_csv(index=False).encode('utf-8')\n",
        "                            st.download_button(\n",
        "                                label=\"📥 Export Predictions to CSV\",\n",
        "                                data=csv_data,\n",
        "                                file_name=filename,\n",
        "                                mime='text/csv'\n",
        "                            )\n",
        "\n",
        "                    if not validation.empty:\n",
        "                        with st.expander(\"View Historical Validation Data\"):\n",
        "                            st.dataframe(validation)\n",
        "\n",
        "                except Exception as e:\n",
        "                    st.error(f\"Prediction failed: {str(e)}\")\n",
        "\n",
        "    # Developer Mode – Drift Check\n",
        "    if profile == \"Developer\":\n",
        "        if st.button(\"Drift Check\"):\n",
        "            with st.spinner(\"Checking data drift...\"):\n",
        "                try:\n",
        "                    response = requests.post(\n",
        "                        endPointUrl2 + \"/checkDrift\",\n",
        "                        json={\n",
        "                            \"Date\": prediction_date.strftime('%Y-%m-%d'),\n",
        "                            \"n_days\": n_days,\n",
        "                            \"range\": prediction_period,\n",
        "                            \"stock\": stock_name\n",
        "                        },\n",
        "                        headers={\"Content-Type\": \"application/json\"},\n",
        "                        timeout=30\n",
        "                    )\n",
        "\n",
        "                    if response.status_code != 200:\n",
        "                        raise Exception(f\"Drift API Error: {response.text}\")\n",
        "\n",
        "                    result = response.json()\n",
        "\n",
        "                    st.markdown(f\"### Overall Drift Status: **{'Drift Detected' if result['overall_drift_status'] else 'No Significant Drift'}**\")\n",
        "                    st.markdown(\"### Feature-wise Drift Summary:\")\n",
        "                    summary_df = pd.DataFrame(result['feature_summary'])\n",
        "                    st.dataframe(summary_df)\n",
        "\n",
        "                    st.markdown(\"### KDE Plots of Numeric Features (Train vs Prediction)\")\n",
        "\n",
        "                    train_df = pd.DataFrame(result['numeric_features_train'])\n",
        "                    prod_df = pd.DataFrame(result['numeric_feature_predict'])\n",
        "                    num_vars = result['num_features']\n",
        "\n",
        "                    for num_feature in num_vars:\n",
        "                        fig, ax = plt.subplots(figsize=(8, 4))\n",
        "                        sn.kdeplot(train_df[num_feature], alpha=0.3, color='purple', fill=True, label='Train Dataset', ax=ax)\n",
        "                        sn.kdeplot(prod_df[num_feature], alpha=0.3, color='yellow', fill=True, label='Prediction Dataset', ax=ax)\n",
        "                        ax.set_title(f\"Distribution of Feature :: {num_feature}\")\n",
        "                        ax.set_xlabel(num_feature)\n",
        "                        ax.set_ylabel(\"Density\")\n",
        "                        ax.legend(loc='upper right')\n",
        "                        st.pyplot(fig)\n",
        "\n",
        "                except Exception as e:\n",
        "                    st.error(f\"Drift check failed: {str(e)}\")\n",
        "\n",
        "    # Footer\n",
        "    st.markdown(f\"\"\"\n",
        "    ---\n",
        "    **Disclaimer:** This application is for informational purposes only and should not be considered as financial advice.\n",
        "    The predictions are based on historical data and statistical models, and past performance is not indicative of future results.\n",
        "    Always consult a qualified financial advisor before making investment decisions.\n",
        "\n",
        "    Data Source: Yahoo Finance | Model Time: {datetime.now().strftime('%Y-%m-%d %H:%M:%S')}\n",
        "    \"\"\")\n",
        "\n",
        "if __name__ == \"__main__\":\n",
        "    create_streamlit_app()\n"
      ],
      "metadata": {
        "colab": {
          "base_uri": "https://localhost:8080/"
        },
        "id": "2T8kSPKgynvp",
        "outputId": "7479b411-6db8-4fda-e339-deb7d135ac9f"
      },
      "id": "2T8kSPKgynvp",
      "execution_count": 15,
      "outputs": [
        {
          "output_type": "stream",
          "name": "stdout",
          "text": [
            "Overwriting app.py\n"
          ]
        }
      ]
    },
    {
      "cell_type": "markdown",
      "id": "e46c8ef0-5660-48d4-b3cc-90e2bb70817e",
      "metadata": {
        "id": "e46c8ef0-5660-48d4-b3cc-90e2bb70817e"
      },
      "source": [
        "#### **Running the UI**\n",
        "> The UI service shall be hosted on port 8501 in localhost."
      ]
    },
    {
      "cell_type": "code",
      "source": [
        "# Storing the ngrok auth-token which will be later used to authorize the web user posting the API request when connecting to the API service hosted at port 8000\n",
        "ngrok.set_auth_token(\"2oy6VhkcQYpcuGwVNoaRhKrA5T6_vwBUcQ4iShdyFHoMnCD4\")"
      ],
      "metadata": {
        "id": "MGFHtfNkbnxU",
        "colab": {
          "base_uri": "https://localhost:8080/"
        },
        "outputId": "8828fc0b-dd2c-41be-9f6a-8e199126506b"
      },
      "id": "MGFHtfNkbnxU",
      "execution_count": 6,
      "outputs": [
        {
          "output_type": "stream",
          "name": "stdout",
          "text": []
        }
      ]
    },
    {
      "cell_type": "code",
      "source": [
        "# Start the Streamlit server in a separate thread so that the execution of main programme running in this notebook is not interrupted\n",
        "streamlit_thread = Thread(\n",
        "    target=lambda: os.system(\"streamlit run app.py --server.port 8501\"), daemon=True\n",
        ")\n",
        "streamlit_thread.start()\n",
        "\n",
        "# Expose the Streamlit app through ngrok\n",
        "# ngrokPublicURL.txt file to be fetched and uploaded from Notebook-2\n",
        "streaming_url = ngrok.connect(8501)\n",
        "print(f\"Streamlit public URL: {streaming_url}\")"
      ],
      "metadata": {
        "colab": {
          "base_uri": "https://localhost:8080/"
        },
        "id": "z8zqpSvNqcqe",
        "outputId": "b97fe1d9-9cbb-48b2-83d5-0b14a774a497"
      },
      "id": "z8zqpSvNqcqe",
      "execution_count": 7,
      "outputs": [
        {
          "output_type": "stream",
          "name": "stdout",
          "text": [
            "Streamlit public URL: NgrokTunnel: \"https://b750-35-237-53-30.ngrok-free.app\" -> \"http://localhost:8501\"\n"
          ]
        }
      ]
    },
    {
      "cell_type": "code",
      "source": [],
      "metadata": {
        "id": "taFAOb3grAD4"
      },
      "id": "taFAOb3grAD4",
      "execution_count": 7,
      "outputs": []
    }
  ],
  "metadata": {
    "kernelspec": {
      "display_name": "Python 3 (ipykernel)",
      "language": "python",
      "name": "python3"
    },
    "language_info": {
      "codemirror_mode": {
        "name": "ipython",
        "version": 3
      },
      "file_extension": ".py",
      "mimetype": "text/x-python",
      "name": "python",
      "nbconvert_exporter": "python",
      "pygments_lexer": "ipython3",
      "version": "3.11.7"
    },
    "colab": {
      "provenance": []
    }
  },
  "nbformat": 4,
  "nbformat_minor": 5
}